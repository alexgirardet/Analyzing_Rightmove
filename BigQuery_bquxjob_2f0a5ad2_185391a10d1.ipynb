{
  "cells": [
    {
      "cell_type": "markdown",
      "metadata": {
        "id": "view-in-github",
        "colab_type": "text"
      },
      "source": [
        "<a href=\"https://colab.research.google.com/github/alexgirardet/Analyzing_Rightmove/blob/main/BigQuery_bquxjob_2f0a5ad2_185391a10d1.ipynb\" target=\"_parent\"><img src=\"https://colab.research.google.com/assets/colab-badge.svg\" alt=\"Open In Colab\"/></a>"
      ]
    },
    {
      "cell_type": "code",
      "execution_count": 1,
      "metadata": {
        "id": "w6MmeBUBJ-9E"
      },
      "outputs": [],
      "source": [
        "# @title Setup\n",
        "from google.colab import auth\n",
        "from google.cloud import bigquery\n",
        "from google.colab import data_table\n",
        "\n",
        "project = 'ric-eu-dl-lz-dev-nprd' # Project ID inserted based on the query results selected to explore\n",
        "location = 'EU' # Location inserted based on the query results selected to explore\n",
        "client = bigquery.Client(project=project, location=location)\n",
        "data_table.enable_dataframe_formatter()\n",
        "auth.authenticate_user()"
      ]
    },
    {
      "cell_type": "markdown",
      "metadata": {
        "id": "pj42soltXW_H"
      },
      "source": [
        "## Reference SQL syntax from the original job\n",
        "Use the ```jobs.query```\n",
        "[method](https://cloud.google.com/bigquery/docs/reference/rest/v2/jobs/query) to\n",
        "return the SQL syntax from the job. This can be copied from the output cell\n",
        "below to edit the query now or in the future. Alternatively, you can use\n",
        "[this link](https://console.cloud.google.com/bigquery?j=ric-eu-dl-lz-dev-nprd:EU:bquxjob_2f0a5ad2_185391a10d1)\n",
        "back to BigQuery to edit the query within the BigQuery user interface."
      ]
    },
    {
      "cell_type": "code",
      "execution_count": 2,
      "metadata": {
        "id": "KxSqPfAeXW_K",
        "outputId": "2f45fcff-2567-4fe3-c3d2-799ae4cabdd7",
        "colab": {
          "base_uri": "https://localhost:8080/"
        }
      },
      "outputs": [
        {
          "output_type": "stream",
          "name": "stdout",
          "text": [
            "SELECT \r\n",
            "logName,\r\n",
            "type,\r\n",
            "project_id,\r\n",
            "dataset_id,\r\n",
            "location,\r\n",
            "method,\r\n",
            "\r\n",
            "jobInsertResponse.resource.jobStatus jobInsertResponse_status,\r\n",
            "jobInsertResponse.resource.jobStatistics.createTime jobInsertResponse_createTime,\r\n",
            "jobInsertResponse.resource.jobStatistics.startTime jobInsertResponse_startTime,\r\n",
            "jobInsertResponse.resource.jobStatistics.endTime jobInsertResponse_endTime,\r\n",
            "jobInsertResponse.resource.jobStatistics.billingTier jobInsertResponse_billingTier,\r\n",
            "jobInsertResponse.resource.jobStatistics.totalSlotMs jobInsertResponse_totalSlotMs,\r\n",
            "jobInsertResponse.resource.jobStatistics.totalViewsProcessed jobInsertResponse_totalViewsProcessed,\r\n",
            "jobInsertResponse.resource.jobName.jobId jobInsertResponse_jobId,\r\n",
            "jobInsertResponse.resource.jobStatistics.totalProcessedBytes jobInsertResponse_totalProcessedBytes,\r\n",
            "jobInsertResponse.resource.jobStatistics.totalBilledBytes jobInsertResponse_totalBilledBytes,\r\n",
            "\r\n",
            "jobQueryResponse.job.jobStatus jobQueryResponse_status,\r\n",
            "jobQueryResponse.job.jobStatistics.createTime jobQueryResponse_createTime,\r\n",
            "jobQueryResponse.job.jobStatistics.startTime jobQueryResponse_startTime,\r\n",
            "jobQueryResponse.job.jobStatistics.endTime jobQueryResponse_endTime,\r\n",
            "jobQueryResponse.job.jobStatistics.billingTier jobQueryResponse_billingTier,\r\n",
            "jobQueryResponse.job.jobStatistics.totalSlotMs jobQueryResponse_totalSlotMs,\r\n",
            "jobQueryResponse.job.jobStatistics.totalViewsProcessed jobQueryResponse_totalViewsProcessed,\r\n",
            "jobQueryResponse.job.jobName.jobId jobQueryResponse_jobId,\r\n",
            "jobQueryResponse.job.jobStatistics.totalProcessedBytes jobQueryResponse_totalProcessedBytes,\r\n",
            "jobQueryResponse.job.jobStatistics.totalBilledBytes jobQueryResponse_totalBilledBytes,\r\n",
            "\r\n",
            "jobGetQueryResultsResponse.job.jobStatus jobGetQueryResultsResponse_status,\r\n",
            "jobGetQueryResultsResponse.job.jobStatistics.createTime jobGetQueryResultsResponse_createTime,\r\n",
            "jobGetQueryResultsResponse.job.jobStatistics.startTime jobGetQueryResultsResponse_startTime,\r\n",
            "jobGetQueryResultsResponse.job.jobStatistics.endTime jobGetQueryResultsResponse_endTime,\r\n",
            "jobGetQueryResultsResponse.job.jobStatistics.billingTier jobGetQueryResultsResponse_billingTier,\r\n",
            "jobGetQueryResultsResponse.job.jobStatistics.totalSlotMs jobGetQueryResultsResponse_totalSlotMs,\r\n",
            "jobGetQueryResultsResponse.job.jobStatistics.totalViewsProcessed jobGetQueryResultsResponse_totalViewsProcessed,\r\n",
            "jobGetQueryResultsResponse.job.jobName.jobId jobGetQueryResultsResponse_jobId,\r\n",
            "jobGetQueryResultsResponse.job.jobStatistics.totalProcessedBytes jobGetQueryResultsResponse_totalProcessedBytes,\r\n",
            "jobGetQueryResultsResponse.job.jobStatistics.totalBilledBytes jobGetQueryResultsResponse_totalBilledBytes\r\n",
            "\r\n",
            "FROM `ric-eu-dl-lz-dev-nprd.alexsbx_billing_export.data_access_jobs`\n"
          ]
        }
      ],
      "source": [
        "# Running this code will display the query used to generate your previous job\n",
        "\n",
        "job = client.get_job('bquxjob_2f0a5ad2_185391a10d1') # Job ID inserted based on the query results selected to explore\n",
        "print(job.query)"
      ]
    },
    {
      "cell_type": "markdown",
      "metadata": {
        "id": "eY-wNOGO11ON"
      },
      "source": [
        "# Result set loaded from BigQuery job as a DataFrame\n",
        "Query results are referenced from the Job ID ran from BigQuery and the query\n",
        "does not need to be re-run to explore results. The ```to_dataframe```\n",
        "[method](https://googleapis.dev/python/bigquery/latest/generated/google.cloud.bigquery.job.QueryJob.html#google.cloud.bigquery.job.QueryJob.to_dataframe)\n",
        "downloads the results to a Pandas DataFrame by using the BigQuery Storage API.\n",
        "\n",
        "To edit query syntax, you can do so from the BigQuery SQL editor or in the\n",
        "```Optional:``` sections below."
      ]
    },
    {
      "cell_type": "code",
      "execution_count": 3,
      "metadata": {
        "id": "bIw82qhuHWy0",
        "outputId": "d3206a32-2bc2-42e5-9bac-4d24094fae39",
        "colab": {
          "base_uri": "https://localhost:8080/",
          "height": 939
        }
      },
      "outputs": [
        {
          "output_type": "stream",
          "name": "stdout",
          "text": [
            "Warning: total number of rows (1226906) exceeds max_rows (20000). Falling back to pandas display.\n"
          ]
        },
        {
          "output_type": "execute_result",
          "data": {
            "text/plain": [
              "                                                   logName               type  \\\n",
              "0        projects/vca-eu-datalake-ww-nprd/logs/cloudaud...  bigquery_resource   \n",
              "1        projects/vca-eu-datalake-ww-nprd/logs/cloudaud...  bigquery_resource   \n",
              "2        projects/ric-eu-dl-cl-qal-prd/logs/cloudaudit....  bigquery_resource   \n",
              "3        projects/ric-eu-dl-cl-rev-etl-prd/logs/cloudau...  bigquery_resource   \n",
              "4        projects/ric-eu-dl-iot-poc-dev-nprd/logs/cloud...  bigquery_resource   \n",
              "...                                                    ...                ...   \n",
              "1226901  projects/car-eu-datalake-mch-ms-ww-nprd/logs/c...   bigquery_dataset   \n",
              "1226902  projects/car-eu-datalake-mch-ms-ww-nprd/logs/c...   bigquery_dataset   \n",
              "1226903  projects/car-eu-datalake-mch-ms-ww-nprd/logs/c...   bigquery_dataset   \n",
              "1226904  projects/car-eu-datalake-mch-ms-ww-nprd/logs/c...   bigquery_dataset   \n",
              "1226905  projects/car-eu-datalake-mch-ms-ww-nprd/logs/c...   bigquery_dataset   \n",
              "\n",
              "                             project_id               dataset_id location  \\\n",
              "0               vca-eu-datalake-ww-nprd                     None     None   \n",
              "1               vca-eu-datalake-ww-nprd                     None     None   \n",
              "2                  ric-eu-dl-cl-qal-prd                     None     None   \n",
              "3              ric-eu-dl-cl-rev-etl-prd                     None     None   \n",
              "4            ric-eu-dl-iot-poc-dev-nprd                     None     None   \n",
              "...                                 ...                      ...      ...   \n",
              "1226901  car-eu-datalake-mch-ms-ww-nprd  bqdts_mch_stg_windchill     None   \n",
              "1226902  car-eu-datalake-mch-ms-ww-nprd  bqdts_mch_stg_windchill     None   \n",
              "1226903  car-eu-datalake-mch-ms-ww-nprd            bqdts_mch_sap     None   \n",
              "1226904  car-eu-datalake-mch-ms-ww-nprd    bqdts_mch_stg_sap_dyn     None   \n",
              "1226905  car-eu-datalake-mch-ms-ww-nprd  bqdts_mch_stg_windchill     None   \n",
              "\n",
              "                                                    method  \\\n",
              "0                                         jobservice.query   \n",
              "1                                         jobservice.query   \n",
              "2                                         jobservice.query   \n",
              "3                                         jobservice.query   \n",
              "4                                         jobservice.query   \n",
              "...                                                    ...   \n",
              "1226901  google.cloud.bigquery.v2.JobService.GetQueryRe...   \n",
              "1226902  google.cloud.bigquery.v2.JobService.GetQueryRe...   \n",
              "1226903  google.cloud.bigquery.v2.JobService.GetQueryRe...   \n",
              "1226904  google.cloud.bigquery.v2.JobService.GetQueryRe...   \n",
              "1226905  google.cloud.bigquery.v2.JobService.GetQueryRe...   \n",
              "\n",
              "        jobInsertResponse_status jobInsertResponse_createTime  \\\n",
              "0                           None                          NaT   \n",
              "1                           None                          NaT   \n",
              "2                           None                          NaT   \n",
              "3                           None                          NaT   \n",
              "4                           None                          NaT   \n",
              "...                          ...                          ...   \n",
              "1226901                     None                          NaT   \n",
              "1226902                     None                          NaT   \n",
              "1226903                     None                          NaT   \n",
              "1226904                     None                          NaT   \n",
              "1226905                     None                          NaT   \n",
              "\n",
              "        jobInsertResponse_startTime jobInsertResponse_endTime  ...  \\\n",
              "0                               NaT                       NaT  ...   \n",
              "1                               NaT                       NaT  ...   \n",
              "2                               NaT                       NaT  ...   \n",
              "3                               NaT                       NaT  ...   \n",
              "4                               NaT                       NaT  ...   \n",
              "...                             ...                       ...  ...   \n",
              "1226901                         NaT                       NaT  ...   \n",
              "1226902                         NaT                       NaT  ...   \n",
              "1226903                         NaT                       NaT  ...   \n",
              "1226904                         NaT                       NaT  ...   \n",
              "1226905                         NaT                       NaT  ...   \n",
              "\n",
              "         jobGetQueryResultsResponse_status  \\\n",
              "0                                     None   \n",
              "1                                     None   \n",
              "2                                     None   \n",
              "3                                     None   \n",
              "4                                     None   \n",
              "...                                    ...   \n",
              "1226901                               None   \n",
              "1226902                               None   \n",
              "1226903                               None   \n",
              "1226904                               None   \n",
              "1226905                               None   \n",
              "\n",
              "         jobGetQueryResultsResponse_createTime  \\\n",
              "0                                          NaT   \n",
              "1                                          NaT   \n",
              "2                                          NaT   \n",
              "3                                          NaT   \n",
              "4                                          NaT   \n",
              "...                                        ...   \n",
              "1226901                                    NaT   \n",
              "1226902                                    NaT   \n",
              "1226903                                    NaT   \n",
              "1226904                                    NaT   \n",
              "1226905                                    NaT   \n",
              "\n",
              "         jobGetQueryResultsResponse_startTime  \\\n",
              "0                                         NaT   \n",
              "1                                         NaT   \n",
              "2                                         NaT   \n",
              "3                                         NaT   \n",
              "4                                         NaT   \n",
              "...                                       ...   \n",
              "1226901                                   NaT   \n",
              "1226902                                   NaT   \n",
              "1226903                                   NaT   \n",
              "1226904                                   NaT   \n",
              "1226905                                   NaT   \n",
              "\n",
              "        jobGetQueryResultsResponse_endTime  \\\n",
              "0                                      NaT   \n",
              "1                                      NaT   \n",
              "2                                      NaT   \n",
              "3                                      NaT   \n",
              "4                                      NaT   \n",
              "...                                    ...   \n",
              "1226901                                NaT   \n",
              "1226902                                NaT   \n",
              "1226903                                NaT   \n",
              "1226904                                NaT   \n",
              "1226905                                NaT   \n",
              "\n",
              "         jobGetQueryResultsResponse_billingTier  \\\n",
              "0                                          <NA>   \n",
              "1                                          <NA>   \n",
              "2                                          <NA>   \n",
              "3                                          <NA>   \n",
              "4                                          <NA>   \n",
              "...                                         ...   \n",
              "1226901                                    <NA>   \n",
              "1226902                                    <NA>   \n",
              "1226903                                    <NA>   \n",
              "1226904                                    <NA>   \n",
              "1226905                                    <NA>   \n",
              "\n",
              "         jobGetQueryResultsResponse_totalSlotMs  \\\n",
              "0                                          <NA>   \n",
              "1                                          <NA>   \n",
              "2                                          <NA>   \n",
              "3                                          <NA>   \n",
              "4                                          <NA>   \n",
              "...                                         ...   \n",
              "1226901                                    <NA>   \n",
              "1226902                                    <NA>   \n",
              "1226903                                    <NA>   \n",
              "1226904                                    <NA>   \n",
              "1226905                                    <NA>   \n",
              "\n",
              "        jobGetQueryResultsResponse_totalViewsProcessed  \\\n",
              "0                                                 <NA>   \n",
              "1                                                 <NA>   \n",
              "2                                                 <NA>   \n",
              "3                                                 <NA>   \n",
              "4                                                 <NA>   \n",
              "...                                                ...   \n",
              "1226901                                           <NA>   \n",
              "1226902                                           <NA>   \n",
              "1226903                                           <NA>   \n",
              "1226904                                           <NA>   \n",
              "1226905                                           <NA>   \n",
              "\n",
              "        jobGetQueryResultsResponse_jobId  \\\n",
              "0                                   None   \n",
              "1                                   None   \n",
              "2                                   None   \n",
              "3                                   None   \n",
              "4                                   None   \n",
              "...                                  ...   \n",
              "1226901                             None   \n",
              "1226902                             None   \n",
              "1226903                             None   \n",
              "1226904                             None   \n",
              "1226905                             None   \n",
              "\n",
              "        jobGetQueryResultsResponse_totalProcessedBytes  \\\n",
              "0                                                 <NA>   \n",
              "1                                                 <NA>   \n",
              "2                                                 <NA>   \n",
              "3                                                 <NA>   \n",
              "4                                                 <NA>   \n",
              "...                                                ...   \n",
              "1226901                                           <NA>   \n",
              "1226902                                           <NA>   \n",
              "1226903                                           <NA>   \n",
              "1226904                                           <NA>   \n",
              "1226905                                           <NA>   \n",
              "\n",
              "        jobGetQueryResultsResponse_totalBilledBytes  \n",
              "0                                              <NA>  \n",
              "1                                              <NA>  \n",
              "2                                              <NA>  \n",
              "3                                              <NA>  \n",
              "4                                              <NA>  \n",
              "...                                             ...  \n",
              "1226901                                        <NA>  \n",
              "1226902                                        <NA>  \n",
              "1226903                                        <NA>  \n",
              "1226904                                        <NA>  \n",
              "1226905                                        <NA>  \n",
              "\n",
              "[1226906 rows x 36 columns]"
            ],
            "text/html": [
              "\n",
              "  <div id=\"df-d9400a5f-78d1-4e91-bb51-8a4db0e6ba72\">\n",
              "    <div class=\"colab-df-container\">\n",
              "      <div>\n",
              "<style scoped>\n",
              "    .dataframe tbody tr th:only-of-type {\n",
              "        vertical-align: middle;\n",
              "    }\n",
              "\n",
              "    .dataframe tbody tr th {\n",
              "        vertical-align: top;\n",
              "    }\n",
              "\n",
              "    .dataframe thead th {\n",
              "        text-align: right;\n",
              "    }\n",
              "</style>\n",
              "<table border=\"1\" class=\"dataframe\">\n",
              "  <thead>\n",
              "    <tr style=\"text-align: right;\">\n",
              "      <th></th>\n",
              "      <th>logName</th>\n",
              "      <th>type</th>\n",
              "      <th>project_id</th>\n",
              "      <th>dataset_id</th>\n",
              "      <th>location</th>\n",
              "      <th>method</th>\n",
              "      <th>jobInsertResponse_status</th>\n",
              "      <th>jobInsertResponse_createTime</th>\n",
              "      <th>jobInsertResponse_startTime</th>\n",
              "      <th>jobInsertResponse_endTime</th>\n",
              "      <th>...</th>\n",
              "      <th>jobGetQueryResultsResponse_status</th>\n",
              "      <th>jobGetQueryResultsResponse_createTime</th>\n",
              "      <th>jobGetQueryResultsResponse_startTime</th>\n",
              "      <th>jobGetQueryResultsResponse_endTime</th>\n",
              "      <th>jobGetQueryResultsResponse_billingTier</th>\n",
              "      <th>jobGetQueryResultsResponse_totalSlotMs</th>\n",
              "      <th>jobGetQueryResultsResponse_totalViewsProcessed</th>\n",
              "      <th>jobGetQueryResultsResponse_jobId</th>\n",
              "      <th>jobGetQueryResultsResponse_totalProcessedBytes</th>\n",
              "      <th>jobGetQueryResultsResponse_totalBilledBytes</th>\n",
              "    </tr>\n",
              "  </thead>\n",
              "  <tbody>\n",
              "    <tr>\n",
              "      <th>0</th>\n",
              "      <td>projects/vca-eu-datalake-ww-nprd/logs/cloudaud...</td>\n",
              "      <td>bigquery_resource</td>\n",
              "      <td>vca-eu-datalake-ww-nprd</td>\n",
              "      <td>None</td>\n",
              "      <td>None</td>\n",
              "      <td>jobservice.query</td>\n",
              "      <td>None</td>\n",
              "      <td>NaT</td>\n",
              "      <td>NaT</td>\n",
              "      <td>NaT</td>\n",
              "      <td>...</td>\n",
              "      <td>None</td>\n",
              "      <td>NaT</td>\n",
              "      <td>NaT</td>\n",
              "      <td>NaT</td>\n",
              "      <td>&lt;NA&gt;</td>\n",
              "      <td>&lt;NA&gt;</td>\n",
              "      <td>&lt;NA&gt;</td>\n",
              "      <td>None</td>\n",
              "      <td>&lt;NA&gt;</td>\n",
              "      <td>&lt;NA&gt;</td>\n",
              "    </tr>\n",
              "    <tr>\n",
              "      <th>1</th>\n",
              "      <td>projects/vca-eu-datalake-ww-nprd/logs/cloudaud...</td>\n",
              "      <td>bigquery_resource</td>\n",
              "      <td>vca-eu-datalake-ww-nprd</td>\n",
              "      <td>None</td>\n",
              "      <td>None</td>\n",
              "      <td>jobservice.query</td>\n",
              "      <td>None</td>\n",
              "      <td>NaT</td>\n",
              "      <td>NaT</td>\n",
              "      <td>NaT</td>\n",
              "      <td>...</td>\n",
              "      <td>None</td>\n",
              "      <td>NaT</td>\n",
              "      <td>NaT</td>\n",
              "      <td>NaT</td>\n",
              "      <td>&lt;NA&gt;</td>\n",
              "      <td>&lt;NA&gt;</td>\n",
              "      <td>&lt;NA&gt;</td>\n",
              "      <td>None</td>\n",
              "      <td>&lt;NA&gt;</td>\n",
              "      <td>&lt;NA&gt;</td>\n",
              "    </tr>\n",
              "    <tr>\n",
              "      <th>2</th>\n",
              "      <td>projects/ric-eu-dl-cl-qal-prd/logs/cloudaudit....</td>\n",
              "      <td>bigquery_resource</td>\n",
              "      <td>ric-eu-dl-cl-qal-prd</td>\n",
              "      <td>None</td>\n",
              "      <td>None</td>\n",
              "      <td>jobservice.query</td>\n",
              "      <td>None</td>\n",
              "      <td>NaT</td>\n",
              "      <td>NaT</td>\n",
              "      <td>NaT</td>\n",
              "      <td>...</td>\n",
              "      <td>None</td>\n",
              "      <td>NaT</td>\n",
              "      <td>NaT</td>\n",
              "      <td>NaT</td>\n",
              "      <td>&lt;NA&gt;</td>\n",
              "      <td>&lt;NA&gt;</td>\n",
              "      <td>&lt;NA&gt;</td>\n",
              "      <td>None</td>\n",
              "      <td>&lt;NA&gt;</td>\n",
              "      <td>&lt;NA&gt;</td>\n",
              "    </tr>\n",
              "    <tr>\n",
              "      <th>3</th>\n",
              "      <td>projects/ric-eu-dl-cl-rev-etl-prd/logs/cloudau...</td>\n",
              "      <td>bigquery_resource</td>\n",
              "      <td>ric-eu-dl-cl-rev-etl-prd</td>\n",
              "      <td>None</td>\n",
              "      <td>None</td>\n",
              "      <td>jobservice.query</td>\n",
              "      <td>None</td>\n",
              "      <td>NaT</td>\n",
              "      <td>NaT</td>\n",
              "      <td>NaT</td>\n",
              "      <td>...</td>\n",
              "      <td>None</td>\n",
              "      <td>NaT</td>\n",
              "      <td>NaT</td>\n",
              "      <td>NaT</td>\n",
              "      <td>&lt;NA&gt;</td>\n",
              "      <td>&lt;NA&gt;</td>\n",
              "      <td>&lt;NA&gt;</td>\n",
              "      <td>None</td>\n",
              "      <td>&lt;NA&gt;</td>\n",
              "      <td>&lt;NA&gt;</td>\n",
              "    </tr>\n",
              "    <tr>\n",
              "      <th>4</th>\n",
              "      <td>projects/ric-eu-dl-iot-poc-dev-nprd/logs/cloud...</td>\n",
              "      <td>bigquery_resource</td>\n",
              "      <td>ric-eu-dl-iot-poc-dev-nprd</td>\n",
              "      <td>None</td>\n",
              "      <td>None</td>\n",
              "      <td>jobservice.query</td>\n",
              "      <td>None</td>\n",
              "      <td>NaT</td>\n",
              "      <td>NaT</td>\n",
              "      <td>NaT</td>\n",
              "      <td>...</td>\n",
              "      <td>None</td>\n",
              "      <td>NaT</td>\n",
              "      <td>NaT</td>\n",
              "      <td>NaT</td>\n",
              "      <td>&lt;NA&gt;</td>\n",
              "      <td>&lt;NA&gt;</td>\n",
              "      <td>&lt;NA&gt;</td>\n",
              "      <td>None</td>\n",
              "      <td>&lt;NA&gt;</td>\n",
              "      <td>&lt;NA&gt;</td>\n",
              "    </tr>\n",
              "    <tr>\n",
              "      <th>...</th>\n",
              "      <td>...</td>\n",
              "      <td>...</td>\n",
              "      <td>...</td>\n",
              "      <td>...</td>\n",
              "      <td>...</td>\n",
              "      <td>...</td>\n",
              "      <td>...</td>\n",
              "      <td>...</td>\n",
              "      <td>...</td>\n",
              "      <td>...</td>\n",
              "      <td>...</td>\n",
              "      <td>...</td>\n",
              "      <td>...</td>\n",
              "      <td>...</td>\n",
              "      <td>...</td>\n",
              "      <td>...</td>\n",
              "      <td>...</td>\n",
              "      <td>...</td>\n",
              "      <td>...</td>\n",
              "      <td>...</td>\n",
              "      <td>...</td>\n",
              "    </tr>\n",
              "    <tr>\n",
              "      <th>1226901</th>\n",
              "      <td>projects/car-eu-datalake-mch-ms-ww-nprd/logs/c...</td>\n",
              "      <td>bigquery_dataset</td>\n",
              "      <td>car-eu-datalake-mch-ms-ww-nprd</td>\n",
              "      <td>bqdts_mch_stg_windchill</td>\n",
              "      <td>None</td>\n",
              "      <td>google.cloud.bigquery.v2.JobService.GetQueryRe...</td>\n",
              "      <td>None</td>\n",
              "      <td>NaT</td>\n",
              "      <td>NaT</td>\n",
              "      <td>NaT</td>\n",
              "      <td>...</td>\n",
              "      <td>None</td>\n",
              "      <td>NaT</td>\n",
              "      <td>NaT</td>\n",
              "      <td>NaT</td>\n",
              "      <td>&lt;NA&gt;</td>\n",
              "      <td>&lt;NA&gt;</td>\n",
              "      <td>&lt;NA&gt;</td>\n",
              "      <td>None</td>\n",
              "      <td>&lt;NA&gt;</td>\n",
              "      <td>&lt;NA&gt;</td>\n",
              "    </tr>\n",
              "    <tr>\n",
              "      <th>1226902</th>\n",
              "      <td>projects/car-eu-datalake-mch-ms-ww-nprd/logs/c...</td>\n",
              "      <td>bigquery_dataset</td>\n",
              "      <td>car-eu-datalake-mch-ms-ww-nprd</td>\n",
              "      <td>bqdts_mch_stg_windchill</td>\n",
              "      <td>None</td>\n",
              "      <td>google.cloud.bigquery.v2.JobService.GetQueryRe...</td>\n",
              "      <td>None</td>\n",
              "      <td>NaT</td>\n",
              "      <td>NaT</td>\n",
              "      <td>NaT</td>\n",
              "      <td>...</td>\n",
              "      <td>None</td>\n",
              "      <td>NaT</td>\n",
              "      <td>NaT</td>\n",
              "      <td>NaT</td>\n",
              "      <td>&lt;NA&gt;</td>\n",
              "      <td>&lt;NA&gt;</td>\n",
              "      <td>&lt;NA&gt;</td>\n",
              "      <td>None</td>\n",
              "      <td>&lt;NA&gt;</td>\n",
              "      <td>&lt;NA&gt;</td>\n",
              "    </tr>\n",
              "    <tr>\n",
              "      <th>1226903</th>\n",
              "      <td>projects/car-eu-datalake-mch-ms-ww-nprd/logs/c...</td>\n",
              "      <td>bigquery_dataset</td>\n",
              "      <td>car-eu-datalake-mch-ms-ww-nprd</td>\n",
              "      <td>bqdts_mch_sap</td>\n",
              "      <td>None</td>\n",
              "      <td>google.cloud.bigquery.v2.JobService.GetQueryRe...</td>\n",
              "      <td>None</td>\n",
              "      <td>NaT</td>\n",
              "      <td>NaT</td>\n",
              "      <td>NaT</td>\n",
              "      <td>...</td>\n",
              "      <td>None</td>\n",
              "      <td>NaT</td>\n",
              "      <td>NaT</td>\n",
              "      <td>NaT</td>\n",
              "      <td>&lt;NA&gt;</td>\n",
              "      <td>&lt;NA&gt;</td>\n",
              "      <td>&lt;NA&gt;</td>\n",
              "      <td>None</td>\n",
              "      <td>&lt;NA&gt;</td>\n",
              "      <td>&lt;NA&gt;</td>\n",
              "    </tr>\n",
              "    <tr>\n",
              "      <th>1226904</th>\n",
              "      <td>projects/car-eu-datalake-mch-ms-ww-nprd/logs/c...</td>\n",
              "      <td>bigquery_dataset</td>\n",
              "      <td>car-eu-datalake-mch-ms-ww-nprd</td>\n",
              "      <td>bqdts_mch_stg_sap_dyn</td>\n",
              "      <td>None</td>\n",
              "      <td>google.cloud.bigquery.v2.JobService.GetQueryRe...</td>\n",
              "      <td>None</td>\n",
              "      <td>NaT</td>\n",
              "      <td>NaT</td>\n",
              "      <td>NaT</td>\n",
              "      <td>...</td>\n",
              "      <td>None</td>\n",
              "      <td>NaT</td>\n",
              "      <td>NaT</td>\n",
              "      <td>NaT</td>\n",
              "      <td>&lt;NA&gt;</td>\n",
              "      <td>&lt;NA&gt;</td>\n",
              "      <td>&lt;NA&gt;</td>\n",
              "      <td>None</td>\n",
              "      <td>&lt;NA&gt;</td>\n",
              "      <td>&lt;NA&gt;</td>\n",
              "    </tr>\n",
              "    <tr>\n",
              "      <th>1226905</th>\n",
              "      <td>projects/car-eu-datalake-mch-ms-ww-nprd/logs/c...</td>\n",
              "      <td>bigquery_dataset</td>\n",
              "      <td>car-eu-datalake-mch-ms-ww-nprd</td>\n",
              "      <td>bqdts_mch_stg_windchill</td>\n",
              "      <td>None</td>\n",
              "      <td>google.cloud.bigquery.v2.JobService.GetQueryRe...</td>\n",
              "      <td>None</td>\n",
              "      <td>NaT</td>\n",
              "      <td>NaT</td>\n",
              "      <td>NaT</td>\n",
              "      <td>...</td>\n",
              "      <td>None</td>\n",
              "      <td>NaT</td>\n",
              "      <td>NaT</td>\n",
              "      <td>NaT</td>\n",
              "      <td>&lt;NA&gt;</td>\n",
              "      <td>&lt;NA&gt;</td>\n",
              "      <td>&lt;NA&gt;</td>\n",
              "      <td>None</td>\n",
              "      <td>&lt;NA&gt;</td>\n",
              "      <td>&lt;NA&gt;</td>\n",
              "    </tr>\n",
              "  </tbody>\n",
              "</table>\n",
              "<p>1226906 rows × 36 columns</p>\n",
              "</div>\n",
              "      <button class=\"colab-df-convert\" onclick=\"convertToInteractive('df-d9400a5f-78d1-4e91-bb51-8a4db0e6ba72')\"\n",
              "              title=\"Convert this dataframe to an interactive table.\"\n",
              "              style=\"display:none;\">\n",
              "        \n",
              "  <svg xmlns=\"http://www.w3.org/2000/svg\" height=\"24px\"viewBox=\"0 0 24 24\"\n",
              "       width=\"24px\">\n",
              "    <path d=\"M0 0h24v24H0V0z\" fill=\"none\"/>\n",
              "    <path d=\"M18.56 5.44l.94 2.06.94-2.06 2.06-.94-2.06-.94-.94-2.06-.94 2.06-2.06.94zm-11 1L8.5 8.5l.94-2.06 2.06-.94-2.06-.94L8.5 2.5l-.94 2.06-2.06.94zm10 10l.94 2.06.94-2.06 2.06-.94-2.06-.94-.94-2.06-.94 2.06-2.06.94z\"/><path d=\"M17.41 7.96l-1.37-1.37c-.4-.4-.92-.59-1.43-.59-.52 0-1.04.2-1.43.59L10.3 9.45l-7.72 7.72c-.78.78-.78 2.05 0 2.83L4 21.41c.39.39.9.59 1.41.59.51 0 1.02-.2 1.41-.59l7.78-7.78 2.81-2.81c.8-.78.8-2.07 0-2.86zM5.41 20L4 18.59l7.72-7.72 1.47 1.35L5.41 20z\"/>\n",
              "  </svg>\n",
              "      </button>\n",
              "      \n",
              "  <style>\n",
              "    .colab-df-container {\n",
              "      display:flex;\n",
              "      flex-wrap:wrap;\n",
              "      gap: 12px;\n",
              "    }\n",
              "\n",
              "    .colab-df-convert {\n",
              "      background-color: #E8F0FE;\n",
              "      border: none;\n",
              "      border-radius: 50%;\n",
              "      cursor: pointer;\n",
              "      display: none;\n",
              "      fill: #1967D2;\n",
              "      height: 32px;\n",
              "      padding: 0 0 0 0;\n",
              "      width: 32px;\n",
              "    }\n",
              "\n",
              "    .colab-df-convert:hover {\n",
              "      background-color: #E2EBFA;\n",
              "      box-shadow: 0px 1px 2px rgba(60, 64, 67, 0.3), 0px 1px 3px 1px rgba(60, 64, 67, 0.15);\n",
              "      fill: #174EA6;\n",
              "    }\n",
              "\n",
              "    [theme=dark] .colab-df-convert {\n",
              "      background-color: #3B4455;\n",
              "      fill: #D2E3FC;\n",
              "    }\n",
              "\n",
              "    [theme=dark] .colab-df-convert:hover {\n",
              "      background-color: #434B5C;\n",
              "      box-shadow: 0px 1px 3px 1px rgba(0, 0, 0, 0.15);\n",
              "      filter: drop-shadow(0px 1px 2px rgba(0, 0, 0, 0.3));\n",
              "      fill: #FFFFFF;\n",
              "    }\n",
              "  </style>\n",
              "\n",
              "      <script>\n",
              "        const buttonEl =\n",
              "          document.querySelector('#df-d9400a5f-78d1-4e91-bb51-8a4db0e6ba72 button.colab-df-convert');\n",
              "        buttonEl.style.display =\n",
              "          google.colab.kernel.accessAllowed ? 'block' : 'none';\n",
              "\n",
              "        async function convertToInteractive(key) {\n",
              "          const element = document.querySelector('#df-d9400a5f-78d1-4e91-bb51-8a4db0e6ba72');\n",
              "          const dataTable =\n",
              "            await google.colab.kernel.invokeFunction('convertToInteractive',\n",
              "                                                     [key], {});\n",
              "          if (!dataTable) return;\n",
              "\n",
              "          const docLinkHtml = 'Like what you see? Visit the ' +\n",
              "            '<a target=\"_blank\" href=https://colab.research.google.com/notebooks/data_table.ipynb>data table notebook</a>'\n",
              "            + ' to learn more about interactive tables.';\n",
              "          element.innerHTML = '';\n",
              "          dataTable['output_type'] = 'display_data';\n",
              "          await google.colab.output.renderOutput(dataTable, element);\n",
              "          const docLink = document.createElement('div');\n",
              "          docLink.innerHTML = docLinkHtml;\n",
              "          element.appendChild(docLink);\n",
              "        }\n",
              "      </script>\n",
              "    </div>\n",
              "  </div>\n",
              "  "
            ]
          },
          "metadata": {},
          "execution_count": 3
        }
      ],
      "source": [
        "# Running this code will read results from your previous job\n",
        "\n",
        "job = client.get_job('bquxjob_2f0a5ad2_185391a10d1') # Job ID inserted based on the query results selected to explore\n",
        "results = job.to_dataframe()\n",
        "results"
      ]
    },
    {
      "cell_type": "code",
      "source": [],
      "metadata": {
        "id": "bLUIr5HEe35W"
      },
      "execution_count": null,
      "outputs": []
    },
    {
      "cell_type": "code",
      "source": [
        "information_job = client.get_job('bquxjob_10ae1120_1853a3db5be') # Job ID inserted based on the query results selected to explore\n",
        "information_results = information_job.to_dataframe()\n",
        "information_results"
      ],
      "metadata": {
        "id": "k8xGInORO6lH",
        "outputId": "df86a36f-eca6-40f9-fdae-097c21d44d20",
        "colab": {
          "base_uri": "https://localhost:8080/",
          "height": 441
        }
      },
      "execution_count": 10,
      "outputs": [
        {
          "output_type": "stream",
          "name": "stdout",
          "text": [
            "Warning: total number of rows (35450) exceeds max_rows (20000). Falling back to pandas display.\n"
          ]
        },
        {
          "output_type": "execute_result",
          "data": {
            "text/plain": [
              "                         creation_time              project_id  \\\n",
              "0     2022-12-13 00:01:02.192000+00:00  ric-eu-dl-ops-dev-nprd   \n",
              "1     2022-12-13 06:00:50.839000+00:00  ric-eu-dl-ops-dev-nprd   \n",
              "2     2022-12-13 12:44:14.737000+00:00  ric-eu-dl-ops-dev-nprd   \n",
              "3     2022-12-13 11:00:28.496000+00:00  ric-eu-dl-ops-dev-nprd   \n",
              "4     2022-12-13 09:33:55.045000+00:00  ric-eu-dl-ops-dev-nprd   \n",
              "...                                ...                     ...   \n",
              "35445 2022-12-13 12:19:27.382000+00:00  ric-eu-dl-ops-dev-nprd   \n",
              "35446 2022-12-13 07:38:31.920000+00:00  ric-eu-dl-ops-dev-nprd   \n",
              "35447 2022-12-13 03:43:36.712000+00:00  ric-eu-dl-ops-dev-nprd   \n",
              "35448 2022-12-13 12:10:47.485000+00:00  ric-eu-dl-ops-dev-nprd   \n",
              "35449 2022-12-13 08:12:56.883000+00:00  ric-eu-dl-ops-dev-nprd   \n",
              "\n",
              "                                     job_id job_type          statement_type  \\\n",
              "0      42f3e347-4914-4e52-b8ef-4863ac8518c4    QUERY                  SELECT   \n",
              "1      36cc8081-5a90-430f-91e6-f6408eb8c449    QUERY                  SELECT   \n",
              "2      ab4d0c41-4f8b-4ae5-82a7-b732c0e10fb8    QUERY                   MERGE   \n",
              "3      2e0f6f6a-d931-4661-a188-e85ee7bcb2c9    QUERY                  SELECT   \n",
              "4      54105d64-4234-4f67-a4d6-ffeb3a6f72cb    QUERY  CREATE_TABLE_AS_SELECT   \n",
              "...                                     ...      ...                     ...   \n",
              "35445      job_yKVSOD2M7auQdtzxUN_OIyWHA0YY    QUERY                  SELECT   \n",
              "35446      job_MO4XJsxAv4kABDdiNHev6fcod-MX    QUERY                  SELECT   \n",
              "35447      job_AVGaR-fiasUZ77Eybv20bNi1jxLL    QUERY                  SELECT   \n",
              "35448      job_-NmrvoN58gTh1jKioavIBPxt3w8k    QUERY                  SELECT   \n",
              "35449      job_JNn-ruh9QVwSe4VOvHgcprIyldOY    QUERY                  SELECT   \n",
              "\n",
              "                            start_time                         end_time state  \\\n",
              "0     2022-12-13 00:01:02.255000+00:00 2022-12-13 00:01:02.420000+00:00  DONE   \n",
              "1     2022-12-13 06:00:50.918000+00:00 2022-12-13 06:00:51.235000+00:00  DONE   \n",
              "2     2022-12-13 12:44:14.934000+00:00 2022-12-13 12:44:28.995000+00:00  DONE   \n",
              "3     2022-12-13 11:00:28.572000+00:00 2022-12-13 11:00:28.765000+00:00  DONE   \n",
              "4     2022-12-13 09:33:55.307000+00:00 2022-12-13 09:34:00.532000+00:00  DONE   \n",
              "...                                ...                              ...   ...   \n",
              "35445 2022-12-13 12:19:27.410000+00:00 2022-12-13 12:19:27.611000+00:00  DONE   \n",
              "35446 2022-12-13 07:38:31.941000+00:00 2022-12-13 07:38:32.052000+00:00  DONE   \n",
              "35447 2022-12-13 03:43:36.753000+00:00 2022-12-13 03:43:36.920000+00:00  DONE   \n",
              "35448 2022-12-13 12:10:47.516000+00:00 2022-12-13 12:10:47.726000+00:00  DONE   \n",
              "35449 2022-12-13 08:12:56.921000+00:00 2022-12-13 08:12:57.173000+00:00  DONE   \n",
              "\n",
              "       total_bytes_billed  total_bytes_processed  total_slot_ms  \n",
              "0                       0                      0             34  \n",
              "1                       0                      0             28  \n",
              "2              4315938816             4314925360        1135845  \n",
              "3                       0                      0            179  \n",
              "4            105237184512           105236333766         300327  \n",
              "...                   ...                    ...            ...  \n",
              "35445            10485760               10485760             70  \n",
              "35446                   0                      0             10  \n",
              "35447            10485760                     26             40  \n",
              "35448            10485760               10485760             49  \n",
              "35449            10485760               10485760             51  \n",
              "\n",
              "[35450 rows x 11 columns]"
            ],
            "text/html": [
              "\n",
              "  <div id=\"df-549c7385-65d7-434b-b543-768498dd81dd\">\n",
              "    <div class=\"colab-df-container\">\n",
              "      <div>\n",
              "<style scoped>\n",
              "    .dataframe tbody tr th:only-of-type {\n",
              "        vertical-align: middle;\n",
              "    }\n",
              "\n",
              "    .dataframe tbody tr th {\n",
              "        vertical-align: top;\n",
              "    }\n",
              "\n",
              "    .dataframe thead th {\n",
              "        text-align: right;\n",
              "    }\n",
              "</style>\n",
              "<table border=\"1\" class=\"dataframe\">\n",
              "  <thead>\n",
              "    <tr style=\"text-align: right;\">\n",
              "      <th></th>\n",
              "      <th>creation_time</th>\n",
              "      <th>project_id</th>\n",
              "      <th>job_id</th>\n",
              "      <th>job_type</th>\n",
              "      <th>statement_type</th>\n",
              "      <th>start_time</th>\n",
              "      <th>end_time</th>\n",
              "      <th>state</th>\n",
              "      <th>total_bytes_billed</th>\n",
              "      <th>total_bytes_processed</th>\n",
              "      <th>total_slot_ms</th>\n",
              "    </tr>\n",
              "  </thead>\n",
              "  <tbody>\n",
              "    <tr>\n",
              "      <th>0</th>\n",
              "      <td>2022-12-13 00:01:02.192000+00:00</td>\n",
              "      <td>ric-eu-dl-ops-dev-nprd</td>\n",
              "      <td>42f3e347-4914-4e52-b8ef-4863ac8518c4</td>\n",
              "      <td>QUERY</td>\n",
              "      <td>SELECT</td>\n",
              "      <td>2022-12-13 00:01:02.255000+00:00</td>\n",
              "      <td>2022-12-13 00:01:02.420000+00:00</td>\n",
              "      <td>DONE</td>\n",
              "      <td>0</td>\n",
              "      <td>0</td>\n",
              "      <td>34</td>\n",
              "    </tr>\n",
              "    <tr>\n",
              "      <th>1</th>\n",
              "      <td>2022-12-13 06:00:50.839000+00:00</td>\n",
              "      <td>ric-eu-dl-ops-dev-nprd</td>\n",
              "      <td>36cc8081-5a90-430f-91e6-f6408eb8c449</td>\n",
              "      <td>QUERY</td>\n",
              "      <td>SELECT</td>\n",
              "      <td>2022-12-13 06:00:50.918000+00:00</td>\n",
              "      <td>2022-12-13 06:00:51.235000+00:00</td>\n",
              "      <td>DONE</td>\n",
              "      <td>0</td>\n",
              "      <td>0</td>\n",
              "      <td>28</td>\n",
              "    </tr>\n",
              "    <tr>\n",
              "      <th>2</th>\n",
              "      <td>2022-12-13 12:44:14.737000+00:00</td>\n",
              "      <td>ric-eu-dl-ops-dev-nprd</td>\n",
              "      <td>ab4d0c41-4f8b-4ae5-82a7-b732c0e10fb8</td>\n",
              "      <td>QUERY</td>\n",
              "      <td>MERGE</td>\n",
              "      <td>2022-12-13 12:44:14.934000+00:00</td>\n",
              "      <td>2022-12-13 12:44:28.995000+00:00</td>\n",
              "      <td>DONE</td>\n",
              "      <td>4315938816</td>\n",
              "      <td>4314925360</td>\n",
              "      <td>1135845</td>\n",
              "    </tr>\n",
              "    <tr>\n",
              "      <th>3</th>\n",
              "      <td>2022-12-13 11:00:28.496000+00:00</td>\n",
              "      <td>ric-eu-dl-ops-dev-nprd</td>\n",
              "      <td>2e0f6f6a-d931-4661-a188-e85ee7bcb2c9</td>\n",
              "      <td>QUERY</td>\n",
              "      <td>SELECT</td>\n",
              "      <td>2022-12-13 11:00:28.572000+00:00</td>\n",
              "      <td>2022-12-13 11:00:28.765000+00:00</td>\n",
              "      <td>DONE</td>\n",
              "      <td>0</td>\n",
              "      <td>0</td>\n",
              "      <td>179</td>\n",
              "    </tr>\n",
              "    <tr>\n",
              "      <th>4</th>\n",
              "      <td>2022-12-13 09:33:55.045000+00:00</td>\n",
              "      <td>ric-eu-dl-ops-dev-nprd</td>\n",
              "      <td>54105d64-4234-4f67-a4d6-ffeb3a6f72cb</td>\n",
              "      <td>QUERY</td>\n",
              "      <td>CREATE_TABLE_AS_SELECT</td>\n",
              "      <td>2022-12-13 09:33:55.307000+00:00</td>\n",
              "      <td>2022-12-13 09:34:00.532000+00:00</td>\n",
              "      <td>DONE</td>\n",
              "      <td>105237184512</td>\n",
              "      <td>105236333766</td>\n",
              "      <td>300327</td>\n",
              "    </tr>\n",
              "    <tr>\n",
              "      <th>...</th>\n",
              "      <td>...</td>\n",
              "      <td>...</td>\n",
              "      <td>...</td>\n",
              "      <td>...</td>\n",
              "      <td>...</td>\n",
              "      <td>...</td>\n",
              "      <td>...</td>\n",
              "      <td>...</td>\n",
              "      <td>...</td>\n",
              "      <td>...</td>\n",
              "      <td>...</td>\n",
              "    </tr>\n",
              "    <tr>\n",
              "      <th>35445</th>\n",
              "      <td>2022-12-13 12:19:27.382000+00:00</td>\n",
              "      <td>ric-eu-dl-ops-dev-nprd</td>\n",
              "      <td>job_yKVSOD2M7auQdtzxUN_OIyWHA0YY</td>\n",
              "      <td>QUERY</td>\n",
              "      <td>SELECT</td>\n",
              "      <td>2022-12-13 12:19:27.410000+00:00</td>\n",
              "      <td>2022-12-13 12:19:27.611000+00:00</td>\n",
              "      <td>DONE</td>\n",
              "      <td>10485760</td>\n",
              "      <td>10485760</td>\n",
              "      <td>70</td>\n",
              "    </tr>\n",
              "    <tr>\n",
              "      <th>35446</th>\n",
              "      <td>2022-12-13 07:38:31.920000+00:00</td>\n",
              "      <td>ric-eu-dl-ops-dev-nprd</td>\n",
              "      <td>job_MO4XJsxAv4kABDdiNHev6fcod-MX</td>\n",
              "      <td>QUERY</td>\n",
              "      <td>SELECT</td>\n",
              "      <td>2022-12-13 07:38:31.941000+00:00</td>\n",
              "      <td>2022-12-13 07:38:32.052000+00:00</td>\n",
              "      <td>DONE</td>\n",
              "      <td>0</td>\n",
              "      <td>0</td>\n",
              "      <td>10</td>\n",
              "    </tr>\n",
              "    <tr>\n",
              "      <th>35447</th>\n",
              "      <td>2022-12-13 03:43:36.712000+00:00</td>\n",
              "      <td>ric-eu-dl-ops-dev-nprd</td>\n",
              "      <td>job_AVGaR-fiasUZ77Eybv20bNi1jxLL</td>\n",
              "      <td>QUERY</td>\n",
              "      <td>SELECT</td>\n",
              "      <td>2022-12-13 03:43:36.753000+00:00</td>\n",
              "      <td>2022-12-13 03:43:36.920000+00:00</td>\n",
              "      <td>DONE</td>\n",
              "      <td>10485760</td>\n",
              "      <td>26</td>\n",
              "      <td>40</td>\n",
              "    </tr>\n",
              "    <tr>\n",
              "      <th>35448</th>\n",
              "      <td>2022-12-13 12:10:47.485000+00:00</td>\n",
              "      <td>ric-eu-dl-ops-dev-nprd</td>\n",
              "      <td>job_-NmrvoN58gTh1jKioavIBPxt3w8k</td>\n",
              "      <td>QUERY</td>\n",
              "      <td>SELECT</td>\n",
              "      <td>2022-12-13 12:10:47.516000+00:00</td>\n",
              "      <td>2022-12-13 12:10:47.726000+00:00</td>\n",
              "      <td>DONE</td>\n",
              "      <td>10485760</td>\n",
              "      <td>10485760</td>\n",
              "      <td>49</td>\n",
              "    </tr>\n",
              "    <tr>\n",
              "      <th>35449</th>\n",
              "      <td>2022-12-13 08:12:56.883000+00:00</td>\n",
              "      <td>ric-eu-dl-ops-dev-nprd</td>\n",
              "      <td>job_JNn-ruh9QVwSe4VOvHgcprIyldOY</td>\n",
              "      <td>QUERY</td>\n",
              "      <td>SELECT</td>\n",
              "      <td>2022-12-13 08:12:56.921000+00:00</td>\n",
              "      <td>2022-12-13 08:12:57.173000+00:00</td>\n",
              "      <td>DONE</td>\n",
              "      <td>10485760</td>\n",
              "      <td>10485760</td>\n",
              "      <td>51</td>\n",
              "    </tr>\n",
              "  </tbody>\n",
              "</table>\n",
              "<p>35450 rows × 11 columns</p>\n",
              "</div>\n",
              "      <button class=\"colab-df-convert\" onclick=\"convertToInteractive('df-549c7385-65d7-434b-b543-768498dd81dd')\"\n",
              "              title=\"Convert this dataframe to an interactive table.\"\n",
              "              style=\"display:none;\">\n",
              "        \n",
              "  <svg xmlns=\"http://www.w3.org/2000/svg\" height=\"24px\"viewBox=\"0 0 24 24\"\n",
              "       width=\"24px\">\n",
              "    <path d=\"M0 0h24v24H0V0z\" fill=\"none\"/>\n",
              "    <path d=\"M18.56 5.44l.94 2.06.94-2.06 2.06-.94-2.06-.94-.94-2.06-.94 2.06-2.06.94zm-11 1L8.5 8.5l.94-2.06 2.06-.94-2.06-.94L8.5 2.5l-.94 2.06-2.06.94zm10 10l.94 2.06.94-2.06 2.06-.94-2.06-.94-.94-2.06-.94 2.06-2.06.94z\"/><path d=\"M17.41 7.96l-1.37-1.37c-.4-.4-.92-.59-1.43-.59-.52 0-1.04.2-1.43.59L10.3 9.45l-7.72 7.72c-.78.78-.78 2.05 0 2.83L4 21.41c.39.39.9.59 1.41.59.51 0 1.02-.2 1.41-.59l7.78-7.78 2.81-2.81c.8-.78.8-2.07 0-2.86zM5.41 20L4 18.59l7.72-7.72 1.47 1.35L5.41 20z\"/>\n",
              "  </svg>\n",
              "      </button>\n",
              "      \n",
              "  <style>\n",
              "    .colab-df-container {\n",
              "      display:flex;\n",
              "      flex-wrap:wrap;\n",
              "      gap: 12px;\n",
              "    }\n",
              "\n",
              "    .colab-df-convert {\n",
              "      background-color: #E8F0FE;\n",
              "      border: none;\n",
              "      border-radius: 50%;\n",
              "      cursor: pointer;\n",
              "      display: none;\n",
              "      fill: #1967D2;\n",
              "      height: 32px;\n",
              "      padding: 0 0 0 0;\n",
              "      width: 32px;\n",
              "    }\n",
              "\n",
              "    .colab-df-convert:hover {\n",
              "      background-color: #E2EBFA;\n",
              "      box-shadow: 0px 1px 2px rgba(60, 64, 67, 0.3), 0px 1px 3px 1px rgba(60, 64, 67, 0.15);\n",
              "      fill: #174EA6;\n",
              "    }\n",
              "\n",
              "    [theme=dark] .colab-df-convert {\n",
              "      background-color: #3B4455;\n",
              "      fill: #D2E3FC;\n",
              "    }\n",
              "\n",
              "    [theme=dark] .colab-df-convert:hover {\n",
              "      background-color: #434B5C;\n",
              "      box-shadow: 0px 1px 3px 1px rgba(0, 0, 0, 0.15);\n",
              "      filter: drop-shadow(0px 1px 2px rgba(0, 0, 0, 0.3));\n",
              "      fill: #FFFFFF;\n",
              "    }\n",
              "  </style>\n",
              "\n",
              "      <script>\n",
              "        const buttonEl =\n",
              "          document.querySelector('#df-549c7385-65d7-434b-b543-768498dd81dd button.colab-df-convert');\n",
              "        buttonEl.style.display =\n",
              "          google.colab.kernel.accessAllowed ? 'block' : 'none';\n",
              "\n",
              "        async function convertToInteractive(key) {\n",
              "          const element = document.querySelector('#df-549c7385-65d7-434b-b543-768498dd81dd');\n",
              "          const dataTable =\n",
              "            await google.colab.kernel.invokeFunction('convertToInteractive',\n",
              "                                                     [key], {});\n",
              "          if (!dataTable) return;\n",
              "\n",
              "          const docLinkHtml = 'Like what you see? Visit the ' +\n",
              "            '<a target=\"_blank\" href=https://colab.research.google.com/notebooks/data_table.ipynb>data table notebook</a>'\n",
              "            + ' to learn more about interactive tables.';\n",
              "          element.innerHTML = '';\n",
              "          dataTable['output_type'] = 'display_data';\n",
              "          await google.colab.output.renderOutput(dataTable, element);\n",
              "          const docLink = document.createElement('div');\n",
              "          docLink.innerHTML = docLinkHtml;\n",
              "          element.appendChild(docLink);\n",
              "        }\n",
              "      </script>\n",
              "    </div>\n",
              "  </div>\n",
              "  "
            ]
          },
          "metadata": {},
          "execution_count": 10
        }
      ]
    },
    {
      "cell_type": "markdown",
      "source": [
        "# Objective"
      ],
      "metadata": {
        "id": "CvNrEHZhPlvg"
      }
    },
    {
      "cell_type": "markdown",
      "source": [
        "Understand how to construct a query that will replicate information schema for all projects. I need to identify which tables within audit log matter for this query. "
      ],
      "metadata": {
        "id": "y7YPi-PYPoty"
      }
    },
    {
      "cell_type": "code",
      "source": [
        "project_results = results[results['project_id'] == 'ric-eu-dl-ops-dev-nprd']"
      ],
      "metadata": {
        "id": "TGleX-_OPn6Z"
      },
      "execution_count": 12,
      "outputs": []
    },
    {
      "cell_type": "markdown",
      "source": [
        "# Analysis"
      ],
      "metadata": {
        "id": "OvH5d7wrP7YA"
      }
    },
    {
      "cell_type": "markdown",
      "source": [
        "## Id analysis"
      ],
      "metadata": {
        "id": "Nvp_u7iJP9SS"
      }
    },
    {
      "cell_type": "code",
      "source": [
        "results_query = list(project_results['jobQueryResponse_jobId'])\n",
        "results_insert = list(project_results['jobInsertResponse_jobId'])\n",
        "results_results = list(project_results['jobGetQueryResultsResponse_jobId'])\n",
        "\n",
        "information_results_ids = list(information_results['job_id'])"
      ],
      "metadata": {
        "id": "hVEH7ObRP6ud"
      },
      "execution_count": 16,
      "outputs": []
    },
    {
      "cell_type": "code",
      "source": [
        "filtered_query_ids = list(filter(None, results_query))\n",
        "filtered_insert_ids = list(filter(None, results_insert))\n",
        "filtered_results_ids = list(filter(None, results_results))\n",
        "\n",
        "filtered_information_ids = list(filter(None, information_results_ids))"
      ],
      "metadata": {
        "id": "oeSbN5xvQAPU"
      },
      "execution_count": 17,
      "outputs": []
    },
    {
      "cell_type": "code",
      "source": [
        "combined_table_ids = filtered_query_ids + filtered_insert_ids + filtered_results_ids"
      ],
      "metadata": {
        "id": "AoEd_NpCQHO1"
      },
      "execution_count": 18,
      "outputs": []
    },
    {
      "cell_type": "markdown",
      "source": [
        "Which tables contain the same Ids as the information schema table."
      ],
      "metadata": {
        "id": "naqw5HCAQUi9"
      }
    },
    {
      "cell_type": "markdown",
      "source": [
        "## JobQueryResponse"
      ],
      "metadata": {
        "id": "B9oGloBjQZZL"
      }
    },
    {
      "cell_type": "code",
      "source": [
        "missing_query_ids = [x for x in information_results_ids if x not in filtered_query_ids]"
      ],
      "metadata": {
        "id": "R5HUu1igQM4U"
      },
      "execution_count": 19,
      "outputs": []
    },
    {
      "cell_type": "code",
      "source": [
        "len(missing_query_ids)"
      ],
      "metadata": {
        "id": "pfDYG4JEQdzu",
        "outputId": "f2d6defe-da0b-45a8-8e7b-5074f97de6a9",
        "colab": {
          "base_uri": "https://localhost:8080/"
        }
      },
      "execution_count": 20,
      "outputs": [
        {
          "output_type": "execute_result",
          "data": {
            "text/plain": [
              "11771"
            ]
          },
          "metadata": {},
          "execution_count": 20
        }
      ]
    },
    {
      "cell_type": "code",
      "source": [
        "len(missing_query_ids) / len(filtered_information_ids)"
      ],
      "metadata": {
        "id": "JRRHNo1sQfNm",
        "outputId": "6e04f9d7-487e-46f8-effb-de6a50062210",
        "colab": {
          "base_uri": "https://localhost:8080/"
        }
      },
      "execution_count": 21,
      "outputs": [
        {
          "output_type": "execute_result",
          "data": {
            "text/plain": [
              "0.3320451339915374"
            ]
          },
          "metadata": {},
          "execution_count": 21
        }
      ]
    },
    {
      "cell_type": "markdown",
      "source": [
        "## JobInsertReponse"
      ],
      "metadata": {
        "id": "lYxQPrM2QmGh"
      }
    },
    {
      "cell_type": "code",
      "source": [
        "missing_insert_ids = [x for x in information_results_ids if x not in filtered_insert_ids]"
      ],
      "metadata": {
        "id": "IJ4kI4GOQncV"
      },
      "execution_count": 22,
      "outputs": []
    },
    {
      "cell_type": "code",
      "source": [
        "len(missing_insert_ids)"
      ],
      "metadata": {
        "id": "TRJlZmVPQpM1",
        "outputId": "632455f8-3e01-4976-e400-5a23884a0715",
        "colab": {
          "base_uri": "https://localhost:8080/"
        }
      },
      "execution_count": 23,
      "outputs": [
        {
          "output_type": "execute_result",
          "data": {
            "text/plain": [
              "23679"
            ]
          },
          "metadata": {},
          "execution_count": 23
        }
      ]
    },
    {
      "cell_type": "code",
      "source": [
        "len(missing_insert_ids) / len(filtered_information_ids)"
      ],
      "metadata": {
        "id": "RQzE088VQsTD",
        "outputId": "a6fb402e-f00f-4b64-a858-2aae0eb3dce1",
        "colab": {
          "base_uri": "https://localhost:8080/"
        }
      },
      "execution_count": 24,
      "outputs": [
        {
          "output_type": "execute_result",
          "data": {
            "text/plain": [
              "0.6679548660084627"
            ]
          },
          "metadata": {},
          "execution_count": 24
        }
      ]
    },
    {
      "cell_type": "markdown",
      "source": [
        "## JobGetQueryResultsResponse"
      ],
      "metadata": {
        "id": "jSGRXnmvQurC"
      }
    },
    {
      "cell_type": "code",
      "source": [
        "missing_results_ids = [x for x in information_results_ids if x not in filtered_results_ids]"
      ],
      "metadata": {
        "id": "ZtPwh4qoQt0l"
      },
      "execution_count": 25,
      "outputs": []
    },
    {
      "cell_type": "code",
      "source": [
        "len(missing_results_ids)"
      ],
      "metadata": {
        "id": "YK9DpMBYQ3FN",
        "outputId": "3a5c7ada-7f3d-481a-f21d-f88e6db5d4d4",
        "colab": {
          "base_uri": "https://localhost:8080/"
        }
      },
      "execution_count": 26,
      "outputs": [
        {
          "output_type": "execute_result",
          "data": {
            "text/plain": [
              "14642"
            ]
          },
          "metadata": {},
          "execution_count": 26
        }
      ]
    },
    {
      "cell_type": "code",
      "source": [
        "len(missing_results_ids) / len(filtered_information_ids)"
      ],
      "metadata": {
        "id": "HNC6GSJfQ4Lk",
        "outputId": "e645a6b7-5887-484b-aa8c-d143b67a1361",
        "colab": {
          "base_uri": "https://localhost:8080/"
        }
      },
      "execution_count": 27,
      "outputs": [
        {
          "output_type": "execute_result",
          "data": {
            "text/plain": [
              "0.4130324400564175"
            ]
          },
          "metadata": {},
          "execution_count": 27
        }
      ]
    },
    {
      "cell_type": "markdown",
      "source": [
        "## All combined"
      ],
      "metadata": {
        "id": "XXxYBJ8tQ7w_"
      }
    },
    {
      "cell_type": "code",
      "source": [
        "missing_combined_ids = [x for x in information_results_ids if x not in combined_table_ids]"
      ],
      "metadata": {
        "id": "zsxI5ZjKQ8vl"
      },
      "execution_count": 28,
      "outputs": []
    },
    {
      "cell_type": "code",
      "source": [
        "len(missing_combined_ids)"
      ],
      "metadata": {
        "id": "oFIP_8fxRDwG",
        "outputId": "32b6cfad-354f-4e1a-f326-a4df1f3ae051",
        "colab": {
          "base_uri": "https://localhost:8080/"
        }
      },
      "execution_count": 29,
      "outputs": [
        {
          "output_type": "execute_result",
          "data": {
            "text/plain": [
              "0"
            ]
          },
          "metadata": {},
          "execution_count": 29
        }
      ]
    },
    {
      "cell_type": "code",
      "source": [
        "len(missing_combined_ids) / len(filtered_information_ids)"
      ],
      "metadata": {
        "id": "LaNBqQqnRFuq",
        "outputId": "97867bd1-9271-45cc-95fd-01f2f20f09bf",
        "colab": {
          "base_uri": "https://localhost:8080/"
        }
      },
      "execution_count": 30,
      "outputs": [
        {
          "output_type": "execute_result",
          "data": {
            "text/plain": [
              "0.0"
            ]
          },
          "metadata": {},
          "execution_count": 30
        }
      ]
    },
    {
      "cell_type": "code",
      "source": [
        "len(combined_table_ids) - len(filtered_information_ids) # Excess of 26300 Ids. We will conduct an analysis of these queries."
      ],
      "metadata": {
        "id": "OJK7qSxPRhcr",
        "outputId": "ac3f5873-78af-40bc-aa43-7c063920c17b",
        "colab": {
          "base_uri": "https://localhost:8080/"
        }
      },
      "execution_count": 34,
      "outputs": [
        {
          "output_type": "execute_result",
          "data": {
            "text/plain": [
              "26300"
            ]
          },
          "metadata": {},
          "execution_count": 34
        }
      ]
    },
    {
      "cell_type": "markdown",
      "source": [
        "## Query and Insert Response"
      ],
      "metadata": {
        "id": "0uLl1wGoRJJU"
      }
    },
    {
      "cell_type": "code",
      "source": [
        "query_insert_ids = filtered_query_ids + filtered_insert_ids\n",
        "missing_query_insert_ids = [x for x in information_results_ids if x not in query_insert_ids]"
      ],
      "metadata": {
        "id": "r0Z6hy8dRLYt"
      },
      "execution_count": 31,
      "outputs": []
    },
    {
      "cell_type": "code",
      "source": [
        "len(missing_query_insert_ids)"
      ],
      "metadata": {
        "id": "XfGP9p0MRYfW",
        "outputId": "a431cc9c-909e-4417-c325-15766a668206",
        "colab": {
          "base_uri": "https://localhost:8080/"
        }
      },
      "execution_count": 32,
      "outputs": [
        {
          "output_type": "execute_result",
          "data": {
            "text/plain": [
              "0"
            ]
          },
          "metadata": {},
          "execution_count": 32
        }
      ]
    },
    {
      "cell_type": "code",
      "source": [
        "len(missing_query_insert_ids) / len(filtered_information_ids)"
      ],
      "metadata": {
        "id": "XLSiAiTJRaHp",
        "outputId": "d9e565eb-4d4d-49d5-bb11-6ac69515d772",
        "colab": {
          "base_uri": "https://localhost:8080/"
        }
      },
      "execution_count": 33,
      "outputs": [
        {
          "output_type": "execute_result",
          "data": {
            "text/plain": [
              "0.0"
            ]
          },
          "metadata": {},
          "execution_count": 33
        }
      ]
    },
    {
      "cell_type": "code",
      "source": [
        "len(query_insert_ids) - len(filtered_information_ids) # Excess of 4 Ids. We will conduct an analysis of these queries."
      ],
      "metadata": {
        "id": "hWTF0edRRmr7",
        "outputId": "17ee4d84-4ffc-4309-a0a7-39f4a7657109",
        "colab": {
          "base_uri": "https://localhost:8080/"
        }
      },
      "execution_count": 36,
      "outputs": [
        {
          "output_type": "execute_result",
          "data": {
            "text/plain": [
              "4"
            ]
          },
          "metadata": {},
          "execution_count": 36
        }
      ]
    },
    {
      "cell_type": "markdown",
      "source": [
        "Initial findings suggest that a combination of queryResponse table and the insertResponse table covers all the queries, however we need to analyze on a bytes processed basis."
      ],
      "metadata": {
        "id": "DiDEs-qeR3MA"
      }
    },
    {
      "cell_type": "markdown",
      "source": [
        "# Bytes Processed analysis"
      ],
      "metadata": {
        "id": "OhBEeFOHSIeb"
      }
    },
    {
      "cell_type": "code",
      "source": [
        "information_results.total_bytes_billed.sum() # The sum from the information schema results table is 158.18 TB. We want to approach this figure as close as possible."
      ],
      "metadata": {
        "id": "11NnRgNfSJ-v",
        "outputId": "88e16382-f0d1-497a-9bc1-6aa54b99b122",
        "colab": {
          "base_uri": "https://localhost:8080/"
        }
      },
      "execution_count": 39,
      "outputs": [
        {
          "output_type": "execute_result",
          "data": {
            "text/plain": [
              "173920802045952"
            ]
          },
          "metadata": {},
          "execution_count": 39
        }
      ]
    },
    {
      "cell_type": "code",
      "source": [
        "insert_query_results = project_results[(project_results['jobInsertResponse_jobId'].isin(query_insert_ids)) | (project_results['jobQueryResponse_jobId'].isin(query_insert_ids))]"
      ],
      "metadata": {
        "id": "dp8iVhecSQ_G"
      },
      "execution_count": 43,
      "outputs": []
    },
    {
      "cell_type": "code",
      "source": [
        "insert_query_results.info() # We can see that every row is mutually exclusive. Meanning that if it one of the tree types then it will not have another on the same row."
      ],
      "metadata": {
        "id": "-bRUg3eASpxH",
        "outputId": "51b864bf-4b8a-44d8-b8c0-539dbdc128db",
        "colab": {
          "base_uri": "https://localhost:8080/"
        }
      },
      "execution_count": 48,
      "outputs": [
        {
          "output_type": "stream",
          "name": "stdout",
          "text": [
            "<class 'pandas.core.frame.DataFrame'>\n",
            "Int64Index: 35454 entries, 32640 to 1190949\n",
            "Data columns (total 36 columns):\n",
            " #   Column                                          Non-Null Count  Dtype              \n",
            "---  ------                                          --------------  -----              \n",
            " 0   logName                                         35454 non-null  object             \n",
            " 1   type                                            35454 non-null  object             \n",
            " 2   project_id                                      35454 non-null  object             \n",
            " 3   dataset_id                                      0 non-null      object             \n",
            " 4   location                                        0 non-null      object             \n",
            " 5   method                                          35454 non-null  object             \n",
            " 6   jobInsertResponse_status                        11773 non-null  object             \n",
            " 7   jobInsertResponse_createTime                    11773 non-null  datetime64[ns, UTC]\n",
            " 8   jobInsertResponse_startTime                     11773 non-null  datetime64[ns, UTC]\n",
            " 9   jobInsertResponse_endTime                       1984 non-null   datetime64[ns, UTC]\n",
            " 10  jobInsertResponse_billingTier                   1387 non-null   Int64              \n",
            " 11  jobInsertResponse_totalSlotMs                   1733 non-null   Int64              \n",
            " 12  jobInsertResponse_totalViewsProcessed           8 non-null      Int64              \n",
            " 13  jobInsertResponse_jobId                         11773 non-null  object             \n",
            " 14  jobInsertResponse_totalProcessedBytes           1387 non-null   Int64              \n",
            " 15  jobInsertResponse_totalBilledBytes              1387 non-null   Int64              \n",
            " 16  jobQueryResponse_status                         23681 non-null  object             \n",
            " 17  jobQueryResponse_createTime                     23681 non-null  datetime64[ns, UTC]\n",
            " 18  jobQueryResponse_startTime                      23681 non-null  datetime64[ns, UTC]\n",
            " 19  jobQueryResponse_endTime                        14211 non-null  datetime64[ns, UTC]\n",
            " 20  jobQueryResponse_billingTier                    8799 non-null   Int64              \n",
            " 21  jobQueryResponse_totalSlotMs                    14651 non-null  Int64              \n",
            " 22  jobQueryResponse_totalViewsProcessed            0 non-null      Int64              \n",
            " 23  jobQueryResponse_jobId                          23681 non-null  object             \n",
            " 24  jobQueryResponse_totalProcessedBytes            8799 non-null   Int64              \n",
            " 25  jobQueryResponse_totalBilledBytes               8799 non-null   Int64              \n",
            " 26  jobGetQueryResultsResponse_status               0 non-null      object             \n",
            " 27  jobGetQueryResultsResponse_createTime           0 non-null      datetime64[ns, UTC]\n",
            " 28  jobGetQueryResultsResponse_startTime            0 non-null      datetime64[ns, UTC]\n",
            " 29  jobGetQueryResultsResponse_endTime              0 non-null      datetime64[ns, UTC]\n",
            " 30  jobGetQueryResultsResponse_billingTier          0 non-null      Int64              \n",
            " 31  jobGetQueryResultsResponse_totalSlotMs          0 non-null      Int64              \n",
            " 32  jobGetQueryResultsResponse_totalViewsProcessed  0 non-null      Int64              \n",
            " 33  jobGetQueryResultsResponse_jobId                0 non-null      object             \n",
            " 34  jobGetQueryResultsResponse_totalProcessedBytes  0 non-null      Int64              \n",
            " 35  jobGetQueryResultsResponse_totalBilledBytes     0 non-null      Int64              \n",
            "dtypes: Int64(15), datetime64[ns, UTC](9), object(12)\n",
            "memory usage: 10.5+ MB\n"
          ]
        }
      ]
    },
    {
      "cell_type": "markdown",
      "source": [
        "We will check the sums of both types."
      ],
      "metadata": {
        "id": "fB9T3gMiTpcL"
      }
    },
    {
      "cell_type": "code",
      "source": [
        "insert_query_results['jobInsertResponse_totalBilledBytes'].sum()"
      ],
      "metadata": {
        "id": "LWa7oVpyTItQ",
        "outputId": "70af6962-7117-4b69-a6d9-19c290c808d7",
        "colab": {
          "base_uri": "https://localhost:8080/"
        }
      },
      "execution_count": 49,
      "outputs": [
        {
          "output_type": "execute_result",
          "data": {
            "text/plain": [
              "2620075802624"
            ]
          },
          "metadata": {},
          "execution_count": 49
        }
      ]
    },
    {
      "cell_type": "code",
      "source": [
        "insert_query_results['jobQueryResponse_totalBilledBytes'].sum()"
      ],
      "metadata": {
        "id": "jmYJ2YHlTfvY",
        "outputId": "6429bedf-ef79-452e-889f-9710044316bc",
        "colab": {
          "base_uri": "https://localhost:8080/"
        }
      },
      "execution_count": 50,
      "outputs": [
        {
          "output_type": "execute_result",
          "data": {
            "text/plain": [
              "92264202240"
            ]
          },
          "metadata": {},
          "execution_count": 50
        }
      ]
    },
    {
      "cell_type": "code",
      "source": [
        "2620075802624 + 92264202240 # The sum of totalBilledBytes from all rows is only 2.46 TB. Which implies that while the table might have all the rows, the billed bytes values might not be stored there"
      ],
      "metadata": {
        "id": "YCyEyqE4TjWQ",
        "outputId": "44b8056e-1c06-422a-a4aa-46e8abcefa1d",
        "colab": {
          "base_uri": "https://localhost:8080/"
        }
      },
      "execution_count": 52,
      "outputs": [
        {
          "output_type": "execute_result",
          "data": {
            "text/plain": [
              "2712340004864"
            ]
          },
          "metadata": {},
          "execution_count": 52
        }
      ]
    },
    {
      "cell_type": "markdown",
      "source": [
        "## Combined table"
      ],
      "metadata": {
        "id": "ZNvclNMWUB15"
      }
    },
    {
      "cell_type": "code",
      "source": [
        "project_results['jobInsertResponse_totalBilledBytes'].sum() + project_results['jobQueryResponse_totalBilledBytes'].sum() + project_results['jobGetQueryResultsResponse_totalBilledBytes'].sum() # All combined table values shows there is 177.5 TB. Implying there is an excess of 19TB."
      ],
      "metadata": {
        "id": "DYlY8p5IUAzZ",
        "outputId": "4c608030-3072-471c-d5d5-c44046b815b6",
        "colab": {
          "base_uri": "https://localhost:8080/"
        }
      },
      "execution_count": 56,
      "outputs": [
        {
          "output_type": "execute_result",
          "data": {
            "text/plain": [
              "195165345021952"
            ]
          },
          "metadata": {},
          "execution_count": 56
        }
      ]
    },
    {
      "cell_type": "code",
      "source": [
        "cleaned_project_results = project_results.drop(columns=['jobInsertResponse_status', 'jobQueryResponse_status','jobGetQueryResultsResponse_status' ]).drop_duplicates().reset_index(drop=True) # Drop dict type columns. drop_duplicates and reset index."
      ],
      "metadata": {
        "id": "ea2tQ9joUO1p"
      },
      "execution_count": 64,
      "outputs": []
    },
    {
      "cell_type": "code",
      "source": [
        "cleaned_project_results['jobInsertResponse_totalBilledBytes'].sum() + cleaned_project_results['jobQueryResponse_totalBilledBytes'].sum() + cleaned_project_results['jobGetQueryResultsResponse_totalBilledBytes'].sum() # Removing duplicates brings the value down to 159.87. Implying there is an excess of 1.4TB."
      ],
      "metadata": {
        "id": "E6Ghv1PlU0MK",
        "outputId": "42fe6e6b-1fd0-4dfb-ca4e-e723b95548a9",
        "colab": {
          "base_uri": "https://localhost:8080/"
        }
      },
      "execution_count": 65,
      "outputs": [
        {
          "output_type": "execute_result",
          "data": {
            "text/plain": [
              "175775917539328"
            ]
          },
          "metadata": {},
          "execution_count": 65
        }
      ]
    },
    {
      "cell_type": "markdown",
      "source": [
        "Discounting for the jobInsertResponse and JobQueryesponse table counts would mean we are under by 1TB. This implies that a combination of the three would be the most accurate path forward. However there will have to be some logic implemented."
      ],
      "metadata": {
        "id": "uWta3y8gVugJ"
      }
    },
    {
      "cell_type": "markdown",
      "source": [
        "## Preprocessing"
      ],
      "metadata": {
        "id": "UD33nMMBXwq4"
      }
    },
    {
      "cell_type": "code",
      "source": [
        "def handle_ids(x):\n",
        "  count = 0\n",
        "\n",
        "  query_results = x[0]\n",
        "  query = x[1]\n",
        "  insert = x[2]\n",
        "\n",
        "  if query_results is not None:\n",
        "    return 0\n",
        "  elif query is not None:\n",
        "    return 1\n",
        "  elif insert is not None:\n",
        "    return 2\n",
        "\n",
        "def return_ids(x):\n",
        "\n",
        "  query_results = x[0]\n",
        "  query = x[1]\n",
        "  insert = x[2]\n",
        "\n",
        "  if query_results is not None:\n",
        "    return query_results\n",
        "  elif query is not None:\n",
        "    return query\n",
        "  elif insert is not None:\n",
        "    return insert"
      ],
      "metadata": {
        "id": "t_mvTojdWAPR"
      },
      "execution_count": 73,
      "outputs": []
    },
    {
      "cell_type": "code",
      "source": [
        "cleaned_project_results['owner'] = cleaned_project_results[['jobGetQueryResultsResponse_jobId', 'jobQueryResponse_jobId', 'jobInsertResponse_jobId']].apply(handle_ids , axis=1)"
      ],
      "metadata": {
        "id": "d60iNe3OXvk1"
      },
      "execution_count": 74,
      "outputs": []
    },
    {
      "cell_type": "code",
      "source": [
        "cleaned_project_results['id'] = cleaned_project_results[['jobGetQueryResultsResponse_jobId', 'jobQueryResponse_jobId', 'jobInsertResponse_jobId']].apply(return_ids , axis=1)"
      ],
      "metadata": {
        "id": "Y_kTDXNyYCVU"
      },
      "execution_count": 70,
      "outputs": []
    },
    {
      "cell_type": "code",
      "source": [
        "cleaned_project_results.head()"
      ],
      "metadata": {
        "id": "BO47V1BkYE88",
        "outputId": "af604eb2-22e4-4758-9638-ef493679aa3d",
        "colab": {
          "base_uri": "https://localhost:8080/",
          "height": 491
        }
      },
      "execution_count": 75,
      "outputs": [
        {
          "output_type": "stream",
          "name": "stdout",
          "text": [
            "Warning: Total number of columns (35) exceeds max_columns (20). Falling back to pandas display.\n"
          ]
        },
        {
          "output_type": "execute_result",
          "data": {
            "text/plain": [
              "                                             logName               type  \\\n",
              "0  projects/ric-eu-dl-ops-dev-nprd/logs/cloudaudi...  bigquery_resource   \n",
              "1  projects/ric-eu-dl-ops-dev-nprd/logs/cloudaudi...  bigquery_resource   \n",
              "2  projects/ric-eu-dl-ops-dev-nprd/logs/cloudaudi...  bigquery_resource   \n",
              "3  projects/ric-eu-dl-ops-dev-nprd/logs/cloudaudi...  bigquery_resource   \n",
              "4  projects/ric-eu-dl-ops-dev-nprd/logs/cloudaudi...  bigquery_resource   \n",
              "\n",
              "               project_id dataset_id location            method  \\\n",
              "0  ric-eu-dl-ops-dev-nprd       None     None  jobservice.query   \n",
              "1  ric-eu-dl-ops-dev-nprd       None     None  jobservice.query   \n",
              "2  ric-eu-dl-ops-dev-nprd       None     None  jobservice.query   \n",
              "3  ric-eu-dl-ops-dev-nprd       None     None  jobservice.query   \n",
              "4  ric-eu-dl-ops-dev-nprd       None     None  jobservice.query   \n",
              "\n",
              "  jobInsertResponse_createTime jobInsertResponse_startTime  \\\n",
              "0                          NaT                         NaT   \n",
              "1                          NaT                         NaT   \n",
              "2                          NaT                         NaT   \n",
              "3                          NaT                         NaT   \n",
              "4                          NaT                         NaT   \n",
              "\n",
              "  jobInsertResponse_endTime  jobInsertResponse_billingTier  ...  \\\n",
              "0                       NaT                           <NA>  ...   \n",
              "1                       NaT                           <NA>  ...   \n",
              "2                       NaT                           <NA>  ...   \n",
              "3                       NaT                           <NA>  ...   \n",
              "4                       NaT                           <NA>  ...   \n",
              "\n",
              "   jobGetQueryResultsResponse_startTime  jobGetQueryResultsResponse_endTime  \\\n",
              "0                                   NaT                                 NaT   \n",
              "1                                   NaT                                 NaT   \n",
              "2                                   NaT                                 NaT   \n",
              "3                                   NaT                                 NaT   \n",
              "4                                   NaT                                 NaT   \n",
              "\n",
              "  jobGetQueryResultsResponse_billingTier  \\\n",
              "0                                   <NA>   \n",
              "1                                   <NA>   \n",
              "2                                   <NA>   \n",
              "3                                   <NA>   \n",
              "4                                   <NA>   \n",
              "\n",
              "   jobGetQueryResultsResponse_totalSlotMs  \\\n",
              "0                                    <NA>   \n",
              "1                                    <NA>   \n",
              "2                                    <NA>   \n",
              "3                                    <NA>   \n",
              "4                                    <NA>   \n",
              "\n",
              "   jobGetQueryResultsResponse_totalViewsProcessed  \\\n",
              "0                                            <NA>   \n",
              "1                                            <NA>   \n",
              "2                                            <NA>   \n",
              "3                                            <NA>   \n",
              "4                                            <NA>   \n",
              "\n",
              "  jobGetQueryResultsResponse_jobId  \\\n",
              "0                             None   \n",
              "1                             None   \n",
              "2                             None   \n",
              "3                             None   \n",
              "4                             None   \n",
              "\n",
              "  jobGetQueryResultsResponse_totalProcessedBytes  \\\n",
              "0                                           <NA>   \n",
              "1                                           <NA>   \n",
              "2                                           <NA>   \n",
              "3                                           <NA>   \n",
              "4                                           <NA>   \n",
              "\n",
              "  jobGetQueryResultsResponse_totalBilledBytes  owner  \\\n",
              "0                                        <NA>    1.0   \n",
              "1                                        <NA>    NaN   \n",
              "2                                        <NA>    1.0   \n",
              "3                                        <NA>    1.0   \n",
              "4                                        <NA>    1.0   \n",
              "\n",
              "                                 id  \n",
              "0  job_q4NogfOJihLss-iP47mN5GVq5oNs  \n",
              "1                              None  \n",
              "2  job_vEK9oS12GxmwiN4P8Bgv82dOzU5D  \n",
              "3  job_yOvlIKfSaOqc_uvc_UV1QCACyjIA  \n",
              "4  job_86sVVXgeDYzw2DztCBAkJoNcCb23  \n",
              "\n",
              "[5 rows x 35 columns]"
            ],
            "text/html": [
              "\n",
              "  <div id=\"df-6e4aa693-c6fe-4cd5-a26d-9f9a6e28f3f8\">\n",
              "    <div class=\"colab-df-container\">\n",
              "      <div>\n",
              "<style scoped>\n",
              "    .dataframe tbody tr th:only-of-type {\n",
              "        vertical-align: middle;\n",
              "    }\n",
              "\n",
              "    .dataframe tbody tr th {\n",
              "        vertical-align: top;\n",
              "    }\n",
              "\n",
              "    .dataframe thead th {\n",
              "        text-align: right;\n",
              "    }\n",
              "</style>\n",
              "<table border=\"1\" class=\"dataframe\">\n",
              "  <thead>\n",
              "    <tr style=\"text-align: right;\">\n",
              "      <th></th>\n",
              "      <th>logName</th>\n",
              "      <th>type</th>\n",
              "      <th>project_id</th>\n",
              "      <th>dataset_id</th>\n",
              "      <th>location</th>\n",
              "      <th>method</th>\n",
              "      <th>jobInsertResponse_createTime</th>\n",
              "      <th>jobInsertResponse_startTime</th>\n",
              "      <th>jobInsertResponse_endTime</th>\n",
              "      <th>jobInsertResponse_billingTier</th>\n",
              "      <th>...</th>\n",
              "      <th>jobGetQueryResultsResponse_startTime</th>\n",
              "      <th>jobGetQueryResultsResponse_endTime</th>\n",
              "      <th>jobGetQueryResultsResponse_billingTier</th>\n",
              "      <th>jobGetQueryResultsResponse_totalSlotMs</th>\n",
              "      <th>jobGetQueryResultsResponse_totalViewsProcessed</th>\n",
              "      <th>jobGetQueryResultsResponse_jobId</th>\n",
              "      <th>jobGetQueryResultsResponse_totalProcessedBytes</th>\n",
              "      <th>jobGetQueryResultsResponse_totalBilledBytes</th>\n",
              "      <th>owner</th>\n",
              "      <th>id</th>\n",
              "    </tr>\n",
              "  </thead>\n",
              "  <tbody>\n",
              "    <tr>\n",
              "      <th>0</th>\n",
              "      <td>projects/ric-eu-dl-ops-dev-nprd/logs/cloudaudi...</td>\n",
              "      <td>bigquery_resource</td>\n",
              "      <td>ric-eu-dl-ops-dev-nprd</td>\n",
              "      <td>None</td>\n",
              "      <td>None</td>\n",
              "      <td>jobservice.query</td>\n",
              "      <td>NaT</td>\n",
              "      <td>NaT</td>\n",
              "      <td>NaT</td>\n",
              "      <td>&lt;NA&gt;</td>\n",
              "      <td>...</td>\n",
              "      <td>NaT</td>\n",
              "      <td>NaT</td>\n",
              "      <td>&lt;NA&gt;</td>\n",
              "      <td>&lt;NA&gt;</td>\n",
              "      <td>&lt;NA&gt;</td>\n",
              "      <td>None</td>\n",
              "      <td>&lt;NA&gt;</td>\n",
              "      <td>&lt;NA&gt;</td>\n",
              "      <td>1.0</td>\n",
              "      <td>job_q4NogfOJihLss-iP47mN5GVq5oNs</td>\n",
              "    </tr>\n",
              "    <tr>\n",
              "      <th>1</th>\n",
              "      <td>projects/ric-eu-dl-ops-dev-nprd/logs/cloudaudi...</td>\n",
              "      <td>bigquery_resource</td>\n",
              "      <td>ric-eu-dl-ops-dev-nprd</td>\n",
              "      <td>None</td>\n",
              "      <td>None</td>\n",
              "      <td>jobservice.query</td>\n",
              "      <td>NaT</td>\n",
              "      <td>NaT</td>\n",
              "      <td>NaT</td>\n",
              "      <td>&lt;NA&gt;</td>\n",
              "      <td>...</td>\n",
              "      <td>NaT</td>\n",
              "      <td>NaT</td>\n",
              "      <td>&lt;NA&gt;</td>\n",
              "      <td>&lt;NA&gt;</td>\n",
              "      <td>&lt;NA&gt;</td>\n",
              "      <td>None</td>\n",
              "      <td>&lt;NA&gt;</td>\n",
              "      <td>&lt;NA&gt;</td>\n",
              "      <td>NaN</td>\n",
              "      <td>None</td>\n",
              "    </tr>\n",
              "    <tr>\n",
              "      <th>2</th>\n",
              "      <td>projects/ric-eu-dl-ops-dev-nprd/logs/cloudaudi...</td>\n",
              "      <td>bigquery_resource</td>\n",
              "      <td>ric-eu-dl-ops-dev-nprd</td>\n",
              "      <td>None</td>\n",
              "      <td>None</td>\n",
              "      <td>jobservice.query</td>\n",
              "      <td>NaT</td>\n",
              "      <td>NaT</td>\n",
              "      <td>NaT</td>\n",
              "      <td>&lt;NA&gt;</td>\n",
              "      <td>...</td>\n",
              "      <td>NaT</td>\n",
              "      <td>NaT</td>\n",
              "      <td>&lt;NA&gt;</td>\n",
              "      <td>&lt;NA&gt;</td>\n",
              "      <td>&lt;NA&gt;</td>\n",
              "      <td>None</td>\n",
              "      <td>&lt;NA&gt;</td>\n",
              "      <td>&lt;NA&gt;</td>\n",
              "      <td>1.0</td>\n",
              "      <td>job_vEK9oS12GxmwiN4P8Bgv82dOzU5D</td>\n",
              "    </tr>\n",
              "    <tr>\n",
              "      <th>3</th>\n",
              "      <td>projects/ric-eu-dl-ops-dev-nprd/logs/cloudaudi...</td>\n",
              "      <td>bigquery_resource</td>\n",
              "      <td>ric-eu-dl-ops-dev-nprd</td>\n",
              "      <td>None</td>\n",
              "      <td>None</td>\n",
              "      <td>jobservice.query</td>\n",
              "      <td>NaT</td>\n",
              "      <td>NaT</td>\n",
              "      <td>NaT</td>\n",
              "      <td>&lt;NA&gt;</td>\n",
              "      <td>...</td>\n",
              "      <td>NaT</td>\n",
              "      <td>NaT</td>\n",
              "      <td>&lt;NA&gt;</td>\n",
              "      <td>&lt;NA&gt;</td>\n",
              "      <td>&lt;NA&gt;</td>\n",
              "      <td>None</td>\n",
              "      <td>&lt;NA&gt;</td>\n",
              "      <td>&lt;NA&gt;</td>\n",
              "      <td>1.0</td>\n",
              "      <td>job_yOvlIKfSaOqc_uvc_UV1QCACyjIA</td>\n",
              "    </tr>\n",
              "    <tr>\n",
              "      <th>4</th>\n",
              "      <td>projects/ric-eu-dl-ops-dev-nprd/logs/cloudaudi...</td>\n",
              "      <td>bigquery_resource</td>\n",
              "      <td>ric-eu-dl-ops-dev-nprd</td>\n",
              "      <td>None</td>\n",
              "      <td>None</td>\n",
              "      <td>jobservice.query</td>\n",
              "      <td>NaT</td>\n",
              "      <td>NaT</td>\n",
              "      <td>NaT</td>\n",
              "      <td>&lt;NA&gt;</td>\n",
              "      <td>...</td>\n",
              "      <td>NaT</td>\n",
              "      <td>NaT</td>\n",
              "      <td>&lt;NA&gt;</td>\n",
              "      <td>&lt;NA&gt;</td>\n",
              "      <td>&lt;NA&gt;</td>\n",
              "      <td>None</td>\n",
              "      <td>&lt;NA&gt;</td>\n",
              "      <td>&lt;NA&gt;</td>\n",
              "      <td>1.0</td>\n",
              "      <td>job_86sVVXgeDYzw2DztCBAkJoNcCb23</td>\n",
              "    </tr>\n",
              "  </tbody>\n",
              "</table>\n",
              "<p>5 rows × 35 columns</p>\n",
              "</div>\n",
              "      <button class=\"colab-df-convert\" onclick=\"convertToInteractive('df-6e4aa693-c6fe-4cd5-a26d-9f9a6e28f3f8')\"\n",
              "              title=\"Convert this dataframe to an interactive table.\"\n",
              "              style=\"display:none;\">\n",
              "        \n",
              "  <svg xmlns=\"http://www.w3.org/2000/svg\" height=\"24px\"viewBox=\"0 0 24 24\"\n",
              "       width=\"24px\">\n",
              "    <path d=\"M0 0h24v24H0V0z\" fill=\"none\"/>\n",
              "    <path d=\"M18.56 5.44l.94 2.06.94-2.06 2.06-.94-2.06-.94-.94-2.06-.94 2.06-2.06.94zm-11 1L8.5 8.5l.94-2.06 2.06-.94-2.06-.94L8.5 2.5l-.94 2.06-2.06.94zm10 10l.94 2.06.94-2.06 2.06-.94-2.06-.94-.94-2.06-.94 2.06-2.06.94z\"/><path d=\"M17.41 7.96l-1.37-1.37c-.4-.4-.92-.59-1.43-.59-.52 0-1.04.2-1.43.59L10.3 9.45l-7.72 7.72c-.78.78-.78 2.05 0 2.83L4 21.41c.39.39.9.59 1.41.59.51 0 1.02-.2 1.41-.59l7.78-7.78 2.81-2.81c.8-.78.8-2.07 0-2.86zM5.41 20L4 18.59l7.72-7.72 1.47 1.35L5.41 20z\"/>\n",
              "  </svg>\n",
              "      </button>\n",
              "      \n",
              "  <style>\n",
              "    .colab-df-container {\n",
              "      display:flex;\n",
              "      flex-wrap:wrap;\n",
              "      gap: 12px;\n",
              "    }\n",
              "\n",
              "    .colab-df-convert {\n",
              "      background-color: #E8F0FE;\n",
              "      border: none;\n",
              "      border-radius: 50%;\n",
              "      cursor: pointer;\n",
              "      display: none;\n",
              "      fill: #1967D2;\n",
              "      height: 32px;\n",
              "      padding: 0 0 0 0;\n",
              "      width: 32px;\n",
              "    }\n",
              "\n",
              "    .colab-df-convert:hover {\n",
              "      background-color: #E2EBFA;\n",
              "      box-shadow: 0px 1px 2px rgba(60, 64, 67, 0.3), 0px 1px 3px 1px rgba(60, 64, 67, 0.15);\n",
              "      fill: #174EA6;\n",
              "    }\n",
              "\n",
              "    [theme=dark] .colab-df-convert {\n",
              "      background-color: #3B4455;\n",
              "      fill: #D2E3FC;\n",
              "    }\n",
              "\n",
              "    [theme=dark] .colab-df-convert:hover {\n",
              "      background-color: #434B5C;\n",
              "      box-shadow: 0px 1px 3px 1px rgba(0, 0, 0, 0.15);\n",
              "      filter: drop-shadow(0px 1px 2px rgba(0, 0, 0, 0.3));\n",
              "      fill: #FFFFFF;\n",
              "    }\n",
              "  </style>\n",
              "\n",
              "      <script>\n",
              "        const buttonEl =\n",
              "          document.querySelector('#df-6e4aa693-c6fe-4cd5-a26d-9f9a6e28f3f8 button.colab-df-convert');\n",
              "        buttonEl.style.display =\n",
              "          google.colab.kernel.accessAllowed ? 'block' : 'none';\n",
              "\n",
              "        async function convertToInteractive(key) {\n",
              "          const element = document.querySelector('#df-6e4aa693-c6fe-4cd5-a26d-9f9a6e28f3f8');\n",
              "          const dataTable =\n",
              "            await google.colab.kernel.invokeFunction('convertToInteractive',\n",
              "                                                     [key], {});\n",
              "          if (!dataTable) return;\n",
              "\n",
              "          const docLinkHtml = 'Like what you see? Visit the ' +\n",
              "            '<a target=\"_blank\" href=https://colab.research.google.com/notebooks/data_table.ipynb>data table notebook</a>'\n",
              "            + ' to learn more about interactive tables.';\n",
              "          element.innerHTML = '';\n",
              "          dataTable['output_type'] = 'display_data';\n",
              "          await google.colab.output.renderOutput(dataTable, element);\n",
              "          const docLink = document.createElement('div');\n",
              "          docLink.innerHTML = docLinkHtml;\n",
              "          element.appendChild(docLink);\n",
              "        }\n",
              "      </script>\n",
              "    </div>\n",
              "  </div>\n",
              "  "
            ]
          },
          "metadata": {},
          "execution_count": 75
        }
      ]
    },
    {
      "cell_type": "code",
      "source": [
        "cleaned_project_results = cleaned_project_results.sort_values(by='owner')"
      ],
      "metadata": {
        "id": "0zdZauxZYGod"
      },
      "execution_count": 77,
      "outputs": []
    },
    {
      "cell_type": "code",
      "source": [
        "processed = cleaned_project_results.drop_duplicates(subset=['id'], keep='first')"
      ],
      "metadata": {
        "id": "jd4dcwk-YaEW"
      },
      "execution_count": 80,
      "outputs": []
    },
    {
      "cell_type": "code",
      "source": [
        "processed['jobInsertResponse_totalBilledBytes'].sum() + processed['jobQueryResponse_totalBilledBytes'].sum() + processed['jobGetQueryResultsResponse_totalBilledBytes'].sum() # Removing duplicates brings the value down to 82.2."
      ],
      "metadata": {
        "id": "B5v3JPG5Ygg3",
        "outputId": "e6501ba0-9333-497e-d1ba-591d3a8f9e98",
        "colab": {
          "base_uri": "https://localhost:8080/"
        }
      },
      "execution_count": 81,
      "outputs": [
        {
          "output_type": "execute_result",
          "data": {
            "text/plain": [
              "90408403075072"
            ]
          },
          "metadata": {},
          "execution_count": 81
        }
      ]
    },
    {
      "cell_type": "markdown",
      "source": [
        "The strategy of prioritizing jobGetQueryResultsResponse did not work. Let me play some classical music and think."
      ],
      "metadata": {
        "id": "AYc5CGzoY3dZ"
      }
    },
    {
      "cell_type": "markdown",
      "source": [
        "Okay I am Bach (haha), I will analyze the rows, and see if we are accidentally deleting duplicates which have totalBilledBytes. For this we need a query that pushes all bytes to a single row."
      ],
      "metadata": {
        "id": "teuXBHUBZUTE"
      }
    },
    {
      "cell_type": "markdown",
      "source": [
        "## Analyse bytes"
      ],
      "metadata": {
        "id": "FGxHkGlpZ4C7"
      }
    },
    {
      "cell_type": "code",
      "source": [
        "import numpy as np"
      ],
      "metadata": {
        "id": "DwLMAselZ1aH"
      },
      "execution_count": 83,
      "outputs": []
    },
    {
      "cell_type": "code",
      "source": [
        "def return_bytes(x):\n",
        "\n",
        "  query_results = str(x[0])\n",
        "  query = str(x[1])\n",
        "  insert = str(x[2])\n",
        "\n",
        "  if query_results != '<NA>':\n",
        "    return float(query_results)\n",
        "  elif query != '<NA>':\n",
        "    return float(query)\n",
        "  elif insert != '<NA>':\n",
        "    return float(insert)\n",
        "  else:\n",
        "    return np.nan\n",
        "     "
      ],
      "metadata": {
        "id": "Dhxoz1iWYx3F"
      },
      "execution_count": 107,
      "outputs": []
    },
    {
      "cell_type": "code",
      "source": [
        "cleaned_project_results['bytes'] = cleaned_project_results[['jobGetQueryResultsResponse_totalBilledBytes', 'jobQueryResponse_totalBilledBytes', 'jobInsertResponse_totalBilledBytes']].apply(return_bytes , axis=1)"
      ],
      "metadata": {
        "id": "O4SkYjXhZoFH"
      },
      "execution_count": 108,
      "outputs": []
    },
    {
      "cell_type": "code",
      "source": [
        "cleaned_project_results"
      ],
      "metadata": {
        "id": "ddiFJDEFajYs",
        "outputId": "b21854bd-0d38-49e5-c414-0f24d3eb06e6",
        "colab": {
          "base_uri": "https://localhost:8080/",
          "height": 852
        }
      },
      "execution_count": 109,
      "outputs": [
        {
          "output_type": "stream",
          "name": "stdout",
          "text": [
            "Warning: total number of rows (76145) exceeds max_rows (20000). Falling back to pandas display.\n"
          ]
        },
        {
          "output_type": "execute_result",
          "data": {
            "text/plain": [
              "                                                 logName               type  \\\n",
              "76144  projects/ric-eu-dl-ops-dev-nprd/logs/cloudaudi...  bigquery_resource   \n",
              "26566  projects/ric-eu-dl-ops-dev-nprd/logs/cloudaudi...  bigquery_resource   \n",
              "26565  projects/ric-eu-dl-ops-dev-nprd/logs/cloudaudi...  bigquery_resource   \n",
              "26564  projects/ric-eu-dl-ops-dev-nprd/logs/cloudaudi...  bigquery_resource   \n",
              "26563  projects/ric-eu-dl-ops-dev-nprd/logs/cloudaudi...  bigquery_resource   \n",
              "...                                                  ...                ...   \n",
              "74913  projects/ric-eu-dl-ops-dev-nprd/logs/cloudaudi...  bigquery_resource   \n",
              "74923  projects/ric-eu-dl-ops-dev-nprd/logs/cloudaudi...  bigquery_resource   \n",
              "74925  projects/ric-eu-dl-ops-dev-nprd/logs/cloudaudi...  bigquery_resource   \n",
              "74926  projects/ric-eu-dl-ops-dev-nprd/logs/cloudaudi...  bigquery_resource   \n",
              "74927  projects/ric-eu-dl-ops-dev-nprd/logs/cloudaudi...  bigquery_resource   \n",
              "\n",
              "                   project_id dataset_id location                      method  \\\n",
              "76144  ric-eu-dl-ops-dev-nprd       None     None  jobservice.getqueryresults   \n",
              "26566  ric-eu-dl-ops-dev-nprd       None     None  jobservice.getqueryresults   \n",
              "26565  ric-eu-dl-ops-dev-nprd       None     None  jobservice.getqueryresults   \n",
              "26564  ric-eu-dl-ops-dev-nprd       None     None  jobservice.getqueryresults   \n",
              "26563  ric-eu-dl-ops-dev-nprd       None     None  jobservice.getqueryresults   \n",
              "...                       ...        ...      ...                         ...   \n",
              "74913  ric-eu-dl-ops-dev-nprd       None     None           jobservice.insert   \n",
              "74923  ric-eu-dl-ops-dev-nprd       None     None           jobservice.insert   \n",
              "74925  ric-eu-dl-ops-dev-nprd       None     None           jobservice.insert   \n",
              "74926  ric-eu-dl-ops-dev-nprd       None     None           jobservice.insert   \n",
              "74927  ric-eu-dl-ops-dev-nprd       None     None           jobservice.insert   \n",
              "\n",
              "          jobInsertResponse_createTime jobInsertResponse_startTime  \\\n",
              "76144                              NaT                         NaT   \n",
              "26566                              NaT                         NaT   \n",
              "26565                              NaT                         NaT   \n",
              "26564                              NaT                         NaT   \n",
              "26563                              NaT                         NaT   \n",
              "...                                ...                         ...   \n",
              "74913 2022-12-13 13:02:24.284000+00:00                         NaT   \n",
              "74923 2022-12-13 07:54:23.437000+00:00                         NaT   \n",
              "74925 2022-12-13 08:16:10.880000+00:00                         NaT   \n",
              "74926 2022-12-13 10:51:22.978000+00:00                         NaT   \n",
              "74927 2022-12-13 09:44:22.368000+00:00                         NaT   \n",
              "\n",
              "      jobInsertResponse_endTime  jobInsertResponse_billingTier  ...  \\\n",
              "76144                       NaT                           <NA>  ...   \n",
              "26566                       NaT                           <NA>  ...   \n",
              "26565                       NaT                           <NA>  ...   \n",
              "26564                       NaT                           <NA>  ...   \n",
              "26563                       NaT                           <NA>  ...   \n",
              "...                         ...                            ...  ...   \n",
              "74913                       NaT                           <NA>  ...   \n",
              "74923                       NaT                           <NA>  ...   \n",
              "74925                       NaT                           <NA>  ...   \n",
              "74926                       NaT                           <NA>  ...   \n",
              "74927                       NaT                           <NA>  ...   \n",
              "\n",
              "       jobGetQueryResultsResponse_endTime  \\\n",
              "76144    2022-12-13 10:52:44.389000+00:00   \n",
              "26566    2022-12-13 14:32:53.396000+00:00   \n",
              "26565    2022-12-13 13:41:29.716000+00:00   \n",
              "26564                                 NaT   \n",
              "26563    2022-12-13 11:12:20.197000+00:00   \n",
              "...                                   ...   \n",
              "74913                                 NaT   \n",
              "74923                                 NaT   \n",
              "74925                                 NaT   \n",
              "74926                                 NaT   \n",
              "74927                                 NaT   \n",
              "\n",
              "       jobGetQueryResultsResponse_billingTier  \\\n",
              "76144                                       1   \n",
              "26566                                       1   \n",
              "26565                                    <NA>   \n",
              "26564                                    <NA>   \n",
              "26563                                       1   \n",
              "...                                       ...   \n",
              "74913                                    <NA>   \n",
              "74923                                    <NA>   \n",
              "74925                                    <NA>   \n",
              "74926                                    <NA>   \n",
              "74927                                    <NA>   \n",
              "\n",
              "      jobGetQueryResultsResponse_totalSlotMs  \\\n",
              "76144                                  38283   \n",
              "26566                               11160820   \n",
              "26565                                   <NA>   \n",
              "26564                                  32168   \n",
              "26563                                   2444   \n",
              "...                                      ...   \n",
              "74913                                   <NA>   \n",
              "74923                                   <NA>   \n",
              "74925                                   <NA>   \n",
              "74926                                   <NA>   \n",
              "74927                                   <NA>   \n",
              "\n",
              "       jobGetQueryResultsResponse_totalViewsProcessed  \\\n",
              "76144                                            <NA>   \n",
              "26566                                              10   \n",
              "26565                                            <NA>   \n",
              "26564                                            <NA>   \n",
              "26563                                            <NA>   \n",
              "...                                               ...   \n",
              "74913                                            <NA>   \n",
              "74923                                            <NA>   \n",
              "74925                                            <NA>   \n",
              "74926                                            <NA>   \n",
              "74927                                            <NA>   \n",
              "\n",
              "                 jobGetQueryResultsResponse_jobId  \\\n",
              "76144            job_KZ3UAJkdswEy58b5cxeROnrAIoOf   \n",
              "26566        e07b2198-7648-4d0f-92eb-6c15471fa9f0   \n",
              "26565            job_r_Mdpk_UfeuEHgc4ldtZaNfKngh3   \n",
              "26564        3fc855a4-4273-4cd9-b8fc-f0fda018104b   \n",
              "26563  bqOdbcJob_daf537591e0449aebddd019f1f33d25a   \n",
              "...                                           ...   \n",
              "74913                                        None   \n",
              "74923                                        None   \n",
              "74925                                        None   \n",
              "74926                                        None   \n",
              "74927                                        None   \n",
              "\n",
              "      jobGetQueryResultsResponse_totalProcessedBytes  \\\n",
              "76144                                        4147276   \n",
              "26566                                   179299957091   \n",
              "26565                                           <NA>   \n",
              "26564                                           <NA>   \n",
              "26563                                            110   \n",
              "...                                              ...   \n",
              "74913                                           <NA>   \n",
              "74923                                           <NA>   \n",
              "74925                                           <NA>   \n",
              "74926                                           <NA>   \n",
              "74927                                           <NA>   \n",
              "\n",
              "      jobGetQueryResultsResponse_totalBilledBytes owner  \\\n",
              "76144                                    20971520   0.0   \n",
              "26566                                179300204544   0.0   \n",
              "26565                                        <NA>   0.0   \n",
              "26564                                        <NA>   0.0   \n",
              "26563                                    10485760   0.0   \n",
              "...                                           ...   ...   \n",
              "74913                                        <NA>   NaN   \n",
              "74923                                        <NA>   NaN   \n",
              "74925                                        <NA>   NaN   \n",
              "74926                                        <NA>   NaN   \n",
              "74927                                        <NA>   NaN   \n",
              "\n",
              "                                               id         bytes  \n",
              "76144            job_KZ3UAJkdswEy58b5cxeROnrAIoOf  2.097152e+07  \n",
              "26566        e07b2198-7648-4d0f-92eb-6c15471fa9f0  1.793002e+11  \n",
              "26565            job_r_Mdpk_UfeuEHgc4ldtZaNfKngh3           NaN  \n",
              "26564        3fc855a4-4273-4cd9-b8fc-f0fda018104b           NaN  \n",
              "26563  bqOdbcJob_daf537591e0449aebddd019f1f33d25a  1.048576e+07  \n",
              "...                                           ...           ...  \n",
              "74913                                        None           NaN  \n",
              "74923                                        None           NaN  \n",
              "74925                                        None           NaN  \n",
              "74926                                        None           NaN  \n",
              "74927                                        None           NaN  \n",
              "\n",
              "[76145 rows x 36 columns]"
            ],
            "text/html": [
              "\n",
              "  <div id=\"df-9bf76756-e0b0-46ed-ba80-4fe11aa3e229\">\n",
              "    <div class=\"colab-df-container\">\n",
              "      <div>\n",
              "<style scoped>\n",
              "    .dataframe tbody tr th:only-of-type {\n",
              "        vertical-align: middle;\n",
              "    }\n",
              "\n",
              "    .dataframe tbody tr th {\n",
              "        vertical-align: top;\n",
              "    }\n",
              "\n",
              "    .dataframe thead th {\n",
              "        text-align: right;\n",
              "    }\n",
              "</style>\n",
              "<table border=\"1\" class=\"dataframe\">\n",
              "  <thead>\n",
              "    <tr style=\"text-align: right;\">\n",
              "      <th></th>\n",
              "      <th>logName</th>\n",
              "      <th>type</th>\n",
              "      <th>project_id</th>\n",
              "      <th>dataset_id</th>\n",
              "      <th>location</th>\n",
              "      <th>method</th>\n",
              "      <th>jobInsertResponse_createTime</th>\n",
              "      <th>jobInsertResponse_startTime</th>\n",
              "      <th>jobInsertResponse_endTime</th>\n",
              "      <th>jobInsertResponse_billingTier</th>\n",
              "      <th>...</th>\n",
              "      <th>jobGetQueryResultsResponse_endTime</th>\n",
              "      <th>jobGetQueryResultsResponse_billingTier</th>\n",
              "      <th>jobGetQueryResultsResponse_totalSlotMs</th>\n",
              "      <th>jobGetQueryResultsResponse_totalViewsProcessed</th>\n",
              "      <th>jobGetQueryResultsResponse_jobId</th>\n",
              "      <th>jobGetQueryResultsResponse_totalProcessedBytes</th>\n",
              "      <th>jobGetQueryResultsResponse_totalBilledBytes</th>\n",
              "      <th>owner</th>\n",
              "      <th>id</th>\n",
              "      <th>bytes</th>\n",
              "    </tr>\n",
              "  </thead>\n",
              "  <tbody>\n",
              "    <tr>\n",
              "      <th>76144</th>\n",
              "      <td>projects/ric-eu-dl-ops-dev-nprd/logs/cloudaudi...</td>\n",
              "      <td>bigquery_resource</td>\n",
              "      <td>ric-eu-dl-ops-dev-nprd</td>\n",
              "      <td>None</td>\n",
              "      <td>None</td>\n",
              "      <td>jobservice.getqueryresults</td>\n",
              "      <td>NaT</td>\n",
              "      <td>NaT</td>\n",
              "      <td>NaT</td>\n",
              "      <td>&lt;NA&gt;</td>\n",
              "      <td>...</td>\n",
              "      <td>2022-12-13 10:52:44.389000+00:00</td>\n",
              "      <td>1</td>\n",
              "      <td>38283</td>\n",
              "      <td>&lt;NA&gt;</td>\n",
              "      <td>job_KZ3UAJkdswEy58b5cxeROnrAIoOf</td>\n",
              "      <td>4147276</td>\n",
              "      <td>20971520</td>\n",
              "      <td>0.0</td>\n",
              "      <td>job_KZ3UAJkdswEy58b5cxeROnrAIoOf</td>\n",
              "      <td>2.097152e+07</td>\n",
              "    </tr>\n",
              "    <tr>\n",
              "      <th>26566</th>\n",
              "      <td>projects/ric-eu-dl-ops-dev-nprd/logs/cloudaudi...</td>\n",
              "      <td>bigquery_resource</td>\n",
              "      <td>ric-eu-dl-ops-dev-nprd</td>\n",
              "      <td>None</td>\n",
              "      <td>None</td>\n",
              "      <td>jobservice.getqueryresults</td>\n",
              "      <td>NaT</td>\n",
              "      <td>NaT</td>\n",
              "      <td>NaT</td>\n",
              "      <td>&lt;NA&gt;</td>\n",
              "      <td>...</td>\n",
              "      <td>2022-12-13 14:32:53.396000+00:00</td>\n",
              "      <td>1</td>\n",
              "      <td>11160820</td>\n",
              "      <td>10</td>\n",
              "      <td>e07b2198-7648-4d0f-92eb-6c15471fa9f0</td>\n",
              "      <td>179299957091</td>\n",
              "      <td>179300204544</td>\n",
              "      <td>0.0</td>\n",
              "      <td>e07b2198-7648-4d0f-92eb-6c15471fa9f0</td>\n",
              "      <td>1.793002e+11</td>\n",
              "    </tr>\n",
              "    <tr>\n",
              "      <th>26565</th>\n",
              "      <td>projects/ric-eu-dl-ops-dev-nprd/logs/cloudaudi...</td>\n",
              "      <td>bigquery_resource</td>\n",
              "      <td>ric-eu-dl-ops-dev-nprd</td>\n",
              "      <td>None</td>\n",
              "      <td>None</td>\n",
              "      <td>jobservice.getqueryresults</td>\n",
              "      <td>NaT</td>\n",
              "      <td>NaT</td>\n",
              "      <td>NaT</td>\n",
              "      <td>&lt;NA&gt;</td>\n",
              "      <td>...</td>\n",
              "      <td>2022-12-13 13:41:29.716000+00:00</td>\n",
              "      <td>&lt;NA&gt;</td>\n",
              "      <td>&lt;NA&gt;</td>\n",
              "      <td>&lt;NA&gt;</td>\n",
              "      <td>job_r_Mdpk_UfeuEHgc4ldtZaNfKngh3</td>\n",
              "      <td>&lt;NA&gt;</td>\n",
              "      <td>&lt;NA&gt;</td>\n",
              "      <td>0.0</td>\n",
              "      <td>job_r_Mdpk_UfeuEHgc4ldtZaNfKngh3</td>\n",
              "      <td>NaN</td>\n",
              "    </tr>\n",
              "    <tr>\n",
              "      <th>26564</th>\n",
              "      <td>projects/ric-eu-dl-ops-dev-nprd/logs/cloudaudi...</td>\n",
              "      <td>bigquery_resource</td>\n",
              "      <td>ric-eu-dl-ops-dev-nprd</td>\n",
              "      <td>None</td>\n",
              "      <td>None</td>\n",
              "      <td>jobservice.getqueryresults</td>\n",
              "      <td>NaT</td>\n",
              "      <td>NaT</td>\n",
              "      <td>NaT</td>\n",
              "      <td>&lt;NA&gt;</td>\n",
              "      <td>...</td>\n",
              "      <td>NaT</td>\n",
              "      <td>&lt;NA&gt;</td>\n",
              "      <td>32168</td>\n",
              "      <td>&lt;NA&gt;</td>\n",
              "      <td>3fc855a4-4273-4cd9-b8fc-f0fda018104b</td>\n",
              "      <td>&lt;NA&gt;</td>\n",
              "      <td>&lt;NA&gt;</td>\n",
              "      <td>0.0</td>\n",
              "      <td>3fc855a4-4273-4cd9-b8fc-f0fda018104b</td>\n",
              "      <td>NaN</td>\n",
              "    </tr>\n",
              "    <tr>\n",
              "      <th>26563</th>\n",
              "      <td>projects/ric-eu-dl-ops-dev-nprd/logs/cloudaudi...</td>\n",
              "      <td>bigquery_resource</td>\n",
              "      <td>ric-eu-dl-ops-dev-nprd</td>\n",
              "      <td>None</td>\n",
              "      <td>None</td>\n",
              "      <td>jobservice.getqueryresults</td>\n",
              "      <td>NaT</td>\n",
              "      <td>NaT</td>\n",
              "      <td>NaT</td>\n",
              "      <td>&lt;NA&gt;</td>\n",
              "      <td>...</td>\n",
              "      <td>2022-12-13 11:12:20.197000+00:00</td>\n",
              "      <td>1</td>\n",
              "      <td>2444</td>\n",
              "      <td>&lt;NA&gt;</td>\n",
              "      <td>bqOdbcJob_daf537591e0449aebddd019f1f33d25a</td>\n",
              "      <td>110</td>\n",
              "      <td>10485760</td>\n",
              "      <td>0.0</td>\n",
              "      <td>bqOdbcJob_daf537591e0449aebddd019f1f33d25a</td>\n",
              "      <td>1.048576e+07</td>\n",
              "    </tr>\n",
              "    <tr>\n",
              "      <th>...</th>\n",
              "      <td>...</td>\n",
              "      <td>...</td>\n",
              "      <td>...</td>\n",
              "      <td>...</td>\n",
              "      <td>...</td>\n",
              "      <td>...</td>\n",
              "      <td>...</td>\n",
              "      <td>...</td>\n",
              "      <td>...</td>\n",
              "      <td>...</td>\n",
              "      <td>...</td>\n",
              "      <td>...</td>\n",
              "      <td>...</td>\n",
              "      <td>...</td>\n",
              "      <td>...</td>\n",
              "      <td>...</td>\n",
              "      <td>...</td>\n",
              "      <td>...</td>\n",
              "      <td>...</td>\n",
              "      <td>...</td>\n",
              "      <td>...</td>\n",
              "    </tr>\n",
              "    <tr>\n",
              "      <th>74913</th>\n",
              "      <td>projects/ric-eu-dl-ops-dev-nprd/logs/cloudaudi...</td>\n",
              "      <td>bigquery_resource</td>\n",
              "      <td>ric-eu-dl-ops-dev-nprd</td>\n",
              "      <td>None</td>\n",
              "      <td>None</td>\n",
              "      <td>jobservice.insert</td>\n",
              "      <td>2022-12-13 13:02:24.284000+00:00</td>\n",
              "      <td>NaT</td>\n",
              "      <td>NaT</td>\n",
              "      <td>&lt;NA&gt;</td>\n",
              "      <td>...</td>\n",
              "      <td>NaT</td>\n",
              "      <td>&lt;NA&gt;</td>\n",
              "      <td>&lt;NA&gt;</td>\n",
              "      <td>&lt;NA&gt;</td>\n",
              "      <td>None</td>\n",
              "      <td>&lt;NA&gt;</td>\n",
              "      <td>&lt;NA&gt;</td>\n",
              "      <td>NaN</td>\n",
              "      <td>None</td>\n",
              "      <td>NaN</td>\n",
              "    </tr>\n",
              "    <tr>\n",
              "      <th>74923</th>\n",
              "      <td>projects/ric-eu-dl-ops-dev-nprd/logs/cloudaudi...</td>\n",
              "      <td>bigquery_resource</td>\n",
              "      <td>ric-eu-dl-ops-dev-nprd</td>\n",
              "      <td>None</td>\n",
              "      <td>None</td>\n",
              "      <td>jobservice.insert</td>\n",
              "      <td>2022-12-13 07:54:23.437000+00:00</td>\n",
              "      <td>NaT</td>\n",
              "      <td>NaT</td>\n",
              "      <td>&lt;NA&gt;</td>\n",
              "      <td>...</td>\n",
              "      <td>NaT</td>\n",
              "      <td>&lt;NA&gt;</td>\n",
              "      <td>&lt;NA&gt;</td>\n",
              "      <td>&lt;NA&gt;</td>\n",
              "      <td>None</td>\n",
              "      <td>&lt;NA&gt;</td>\n",
              "      <td>&lt;NA&gt;</td>\n",
              "      <td>NaN</td>\n",
              "      <td>None</td>\n",
              "      <td>NaN</td>\n",
              "    </tr>\n",
              "    <tr>\n",
              "      <th>74925</th>\n",
              "      <td>projects/ric-eu-dl-ops-dev-nprd/logs/cloudaudi...</td>\n",
              "      <td>bigquery_resource</td>\n",
              "      <td>ric-eu-dl-ops-dev-nprd</td>\n",
              "      <td>None</td>\n",
              "      <td>None</td>\n",
              "      <td>jobservice.insert</td>\n",
              "      <td>2022-12-13 08:16:10.880000+00:00</td>\n",
              "      <td>NaT</td>\n",
              "      <td>NaT</td>\n",
              "      <td>&lt;NA&gt;</td>\n",
              "      <td>...</td>\n",
              "      <td>NaT</td>\n",
              "      <td>&lt;NA&gt;</td>\n",
              "      <td>&lt;NA&gt;</td>\n",
              "      <td>&lt;NA&gt;</td>\n",
              "      <td>None</td>\n",
              "      <td>&lt;NA&gt;</td>\n",
              "      <td>&lt;NA&gt;</td>\n",
              "      <td>NaN</td>\n",
              "      <td>None</td>\n",
              "      <td>NaN</td>\n",
              "    </tr>\n",
              "    <tr>\n",
              "      <th>74926</th>\n",
              "      <td>projects/ric-eu-dl-ops-dev-nprd/logs/cloudaudi...</td>\n",
              "      <td>bigquery_resource</td>\n",
              "      <td>ric-eu-dl-ops-dev-nprd</td>\n",
              "      <td>None</td>\n",
              "      <td>None</td>\n",
              "      <td>jobservice.insert</td>\n",
              "      <td>2022-12-13 10:51:22.978000+00:00</td>\n",
              "      <td>NaT</td>\n",
              "      <td>NaT</td>\n",
              "      <td>&lt;NA&gt;</td>\n",
              "      <td>...</td>\n",
              "      <td>NaT</td>\n",
              "      <td>&lt;NA&gt;</td>\n",
              "      <td>&lt;NA&gt;</td>\n",
              "      <td>&lt;NA&gt;</td>\n",
              "      <td>None</td>\n",
              "      <td>&lt;NA&gt;</td>\n",
              "      <td>&lt;NA&gt;</td>\n",
              "      <td>NaN</td>\n",
              "      <td>None</td>\n",
              "      <td>NaN</td>\n",
              "    </tr>\n",
              "    <tr>\n",
              "      <th>74927</th>\n",
              "      <td>projects/ric-eu-dl-ops-dev-nprd/logs/cloudaudi...</td>\n",
              "      <td>bigquery_resource</td>\n",
              "      <td>ric-eu-dl-ops-dev-nprd</td>\n",
              "      <td>None</td>\n",
              "      <td>None</td>\n",
              "      <td>jobservice.insert</td>\n",
              "      <td>2022-12-13 09:44:22.368000+00:00</td>\n",
              "      <td>NaT</td>\n",
              "      <td>NaT</td>\n",
              "      <td>&lt;NA&gt;</td>\n",
              "      <td>...</td>\n",
              "      <td>NaT</td>\n",
              "      <td>&lt;NA&gt;</td>\n",
              "      <td>&lt;NA&gt;</td>\n",
              "      <td>&lt;NA&gt;</td>\n",
              "      <td>None</td>\n",
              "      <td>&lt;NA&gt;</td>\n",
              "      <td>&lt;NA&gt;</td>\n",
              "      <td>NaN</td>\n",
              "      <td>None</td>\n",
              "      <td>NaN</td>\n",
              "    </tr>\n",
              "  </tbody>\n",
              "</table>\n",
              "<p>76145 rows × 36 columns</p>\n",
              "</div>\n",
              "      <button class=\"colab-df-convert\" onclick=\"convertToInteractive('df-9bf76756-e0b0-46ed-ba80-4fe11aa3e229')\"\n",
              "              title=\"Convert this dataframe to an interactive table.\"\n",
              "              style=\"display:none;\">\n",
              "        \n",
              "  <svg xmlns=\"http://www.w3.org/2000/svg\" height=\"24px\"viewBox=\"0 0 24 24\"\n",
              "       width=\"24px\">\n",
              "    <path d=\"M0 0h24v24H0V0z\" fill=\"none\"/>\n",
              "    <path d=\"M18.56 5.44l.94 2.06.94-2.06 2.06-.94-2.06-.94-.94-2.06-.94 2.06-2.06.94zm-11 1L8.5 8.5l.94-2.06 2.06-.94-2.06-.94L8.5 2.5l-.94 2.06-2.06.94zm10 10l.94 2.06.94-2.06 2.06-.94-2.06-.94-.94-2.06-.94 2.06-2.06.94z\"/><path d=\"M17.41 7.96l-1.37-1.37c-.4-.4-.92-.59-1.43-.59-.52 0-1.04.2-1.43.59L10.3 9.45l-7.72 7.72c-.78.78-.78 2.05 0 2.83L4 21.41c.39.39.9.59 1.41.59.51 0 1.02-.2 1.41-.59l7.78-7.78 2.81-2.81c.8-.78.8-2.07 0-2.86zM5.41 20L4 18.59l7.72-7.72 1.47 1.35L5.41 20z\"/>\n",
              "  </svg>\n",
              "      </button>\n",
              "      \n",
              "  <style>\n",
              "    .colab-df-container {\n",
              "      display:flex;\n",
              "      flex-wrap:wrap;\n",
              "      gap: 12px;\n",
              "    }\n",
              "\n",
              "    .colab-df-convert {\n",
              "      background-color: #E8F0FE;\n",
              "      border: none;\n",
              "      border-radius: 50%;\n",
              "      cursor: pointer;\n",
              "      display: none;\n",
              "      fill: #1967D2;\n",
              "      height: 32px;\n",
              "      padding: 0 0 0 0;\n",
              "      width: 32px;\n",
              "    }\n",
              "\n",
              "    .colab-df-convert:hover {\n",
              "      background-color: #E2EBFA;\n",
              "      box-shadow: 0px 1px 2px rgba(60, 64, 67, 0.3), 0px 1px 3px 1px rgba(60, 64, 67, 0.15);\n",
              "      fill: #174EA6;\n",
              "    }\n",
              "\n",
              "    [theme=dark] .colab-df-convert {\n",
              "      background-color: #3B4455;\n",
              "      fill: #D2E3FC;\n",
              "    }\n",
              "\n",
              "    [theme=dark] .colab-df-convert:hover {\n",
              "      background-color: #434B5C;\n",
              "      box-shadow: 0px 1px 3px 1px rgba(0, 0, 0, 0.15);\n",
              "      filter: drop-shadow(0px 1px 2px rgba(0, 0, 0, 0.3));\n",
              "      fill: #FFFFFF;\n",
              "    }\n",
              "  </style>\n",
              "\n",
              "      <script>\n",
              "        const buttonEl =\n",
              "          document.querySelector('#df-9bf76756-e0b0-46ed-ba80-4fe11aa3e229 button.colab-df-convert');\n",
              "        buttonEl.style.display =\n",
              "          google.colab.kernel.accessAllowed ? 'block' : 'none';\n",
              "\n",
              "        async function convertToInteractive(key) {\n",
              "          const element = document.querySelector('#df-9bf76756-e0b0-46ed-ba80-4fe11aa3e229');\n",
              "          const dataTable =\n",
              "            await google.colab.kernel.invokeFunction('convertToInteractive',\n",
              "                                                     [key], {});\n",
              "          if (!dataTable) return;\n",
              "\n",
              "          const docLinkHtml = 'Like what you see? Visit the ' +\n",
              "            '<a target=\"_blank\" href=https://colab.research.google.com/notebooks/data_table.ipynb>data table notebook</a>'\n",
              "            + ' to learn more about interactive tables.';\n",
              "          element.innerHTML = '';\n",
              "          dataTable['output_type'] = 'display_data';\n",
              "          await google.colab.output.renderOutput(dataTable, element);\n",
              "          const docLink = document.createElement('div');\n",
              "          docLink.innerHTML = docLinkHtml;\n",
              "          element.appendChild(docLink);\n",
              "        }\n",
              "      </script>\n",
              "    </div>\n",
              "  </div>\n",
              "  "
            ]
          },
          "metadata": {},
          "execution_count": 109
        }
      ]
    },
    {
      "cell_type": "code",
      "source": [
        "cut_table = cleaned_project_results[['owner', 'id', 'bytes']]"
      ],
      "metadata": {
        "id": "UgELfoVxaCvn"
      },
      "execution_count": 110,
      "outputs": []
    },
    {
      "cell_type": "code",
      "source": [
        "cut_table.id.value_counts() # Get the Ids with the highest values."
      ],
      "metadata": {
        "id": "dOl-_XGDcFtJ",
        "outputId": "f820b1d7-438c-462b-e33a-2bea748754ad",
        "colab": {
          "base_uri": "https://localhost:8080/"
        }
      },
      "execution_count": 119,
      "outputs": [
        {
          "output_type": "execute_result",
          "data": {
            "text/plain": [
              "869082c3-eb98-4066-8c41-48db3249356e    46\n",
              "2fffa725-5918-4f65-8e9f-59c2b79a676b    19\n",
              "bf783d1c-f655-431a-a45f-01de9b0ee3ee    19\n",
              "8cb49419-335f-4da7-adf8-7ca8a7a5a4bf    14\n",
              "77a87024-ba22-4382-90ff-9dbc998cb2b3    10\n",
              "                                        ..\n",
              "job_SawwqxpZXe0-_78_I9cBMDlRCvRg         1\n",
              "job_F64DyoxBPucOwHCPNRL6SVi0elVz         1\n",
              "job_dLDpaXq4DAoTzezwmvudWi-b9247         1\n",
              "job_nYrw6HqkjQe9tKiosYOjztn1V6Ax         1\n",
              "08de21b9-46e9-47a3-8605-c023155f4ceb     1\n",
              "Name: id, Length: 35454, dtype: int64"
            ]
          },
          "metadata": {},
          "execution_count": 119
        }
      ]
    },
    {
      "cell_type": "code",
      "source": [
        "cut_table[cut_table['id'] == '2fffa725-5918-4f65-8e9f-59c2b79a676b']"
      ],
      "metadata": {
        "id": "ZBhfydDxcJgo",
        "outputId": "5aa8e616-963b-4ac9-baf7-0f85920ccd9d",
        "colab": {
          "base_uri": "https://localhost:8080/",
          "height": 504
        }
      },
      "execution_count": 120,
      "outputs": [
        {
          "output_type": "execute_result",
          "data": {
            "text/plain": [
              "       owner                                    id         bytes\n",
              "27039    0.0  2fffa725-5918-4f65-8e9f-59c2b79a676b           NaN\n",
              "57907    0.0  2fffa725-5918-4f65-8e9f-59c2b79a676b           NaN\n",
              "53172    0.0  2fffa725-5918-4f65-8e9f-59c2b79a676b  8.662003e+11\n",
              "45182    0.0  2fffa725-5918-4f65-8e9f-59c2b79a676b           NaN\n",
              "31720    0.0  2fffa725-5918-4f65-8e9f-59c2b79a676b           NaN\n",
              "30953    0.0  2fffa725-5918-4f65-8e9f-59c2b79a676b           NaN\n",
              "35661    0.0  2fffa725-5918-4f65-8e9f-59c2b79a676b           NaN\n",
              "49642    0.0  2fffa725-5918-4f65-8e9f-59c2b79a676b           NaN\n",
              "49544    0.0  2fffa725-5918-4f65-8e9f-59c2b79a676b           NaN\n",
              "70657    0.0  2fffa725-5918-4f65-8e9f-59c2b79a676b           NaN\n",
              "66905    0.0  2fffa725-5918-4f65-8e9f-59c2b79a676b           NaN\n",
              "8957     0.0  2fffa725-5918-4f65-8e9f-59c2b79a676b           NaN\n",
              "74983    0.0  2fffa725-5918-4f65-8e9f-59c2b79a676b           NaN\n",
              "3576     0.0  2fffa725-5918-4f65-8e9f-59c2b79a676b           NaN\n",
              "13621    0.0  2fffa725-5918-4f65-8e9f-59c2b79a676b           NaN\n",
              "12552    0.0  2fffa725-5918-4f65-8e9f-59c2b79a676b           NaN\n",
              "62856    0.0  2fffa725-5918-4f65-8e9f-59c2b79a676b           NaN\n",
              "62771    0.0  2fffa725-5918-4f65-8e9f-59c2b79a676b           NaN\n",
              "39624    2.0  2fffa725-5918-4f65-8e9f-59c2b79a676b           NaN"
            ],
            "text/html": [
              "\n",
              "  <div id=\"df-5faea9dd-11ab-4de5-8bd8-79dbcf3e0692\">\n",
              "    <div class=\"colab-df-container\">\n",
              "      <div>\n",
              "<style scoped>\n",
              "    .dataframe tbody tr th:only-of-type {\n",
              "        vertical-align: middle;\n",
              "    }\n",
              "\n",
              "    .dataframe tbody tr th {\n",
              "        vertical-align: top;\n",
              "    }\n",
              "\n",
              "    .dataframe thead th {\n",
              "        text-align: right;\n",
              "    }\n",
              "</style>\n",
              "<table border=\"1\" class=\"dataframe\">\n",
              "  <thead>\n",
              "    <tr style=\"text-align: right;\">\n",
              "      <th></th>\n",
              "      <th>owner</th>\n",
              "      <th>id</th>\n",
              "      <th>bytes</th>\n",
              "    </tr>\n",
              "  </thead>\n",
              "  <tbody>\n",
              "    <tr>\n",
              "      <th>27039</th>\n",
              "      <td>0.0</td>\n",
              "      <td>2fffa725-5918-4f65-8e9f-59c2b79a676b</td>\n",
              "      <td>NaN</td>\n",
              "    </tr>\n",
              "    <tr>\n",
              "      <th>57907</th>\n",
              "      <td>0.0</td>\n",
              "      <td>2fffa725-5918-4f65-8e9f-59c2b79a676b</td>\n",
              "      <td>NaN</td>\n",
              "    </tr>\n",
              "    <tr>\n",
              "      <th>53172</th>\n",
              "      <td>0.0</td>\n",
              "      <td>2fffa725-5918-4f65-8e9f-59c2b79a676b</td>\n",
              "      <td>8.662003e+11</td>\n",
              "    </tr>\n",
              "    <tr>\n",
              "      <th>45182</th>\n",
              "      <td>0.0</td>\n",
              "      <td>2fffa725-5918-4f65-8e9f-59c2b79a676b</td>\n",
              "      <td>NaN</td>\n",
              "    </tr>\n",
              "    <tr>\n",
              "      <th>31720</th>\n",
              "      <td>0.0</td>\n",
              "      <td>2fffa725-5918-4f65-8e9f-59c2b79a676b</td>\n",
              "      <td>NaN</td>\n",
              "    </tr>\n",
              "    <tr>\n",
              "      <th>30953</th>\n",
              "      <td>0.0</td>\n",
              "      <td>2fffa725-5918-4f65-8e9f-59c2b79a676b</td>\n",
              "      <td>NaN</td>\n",
              "    </tr>\n",
              "    <tr>\n",
              "      <th>35661</th>\n",
              "      <td>0.0</td>\n",
              "      <td>2fffa725-5918-4f65-8e9f-59c2b79a676b</td>\n",
              "      <td>NaN</td>\n",
              "    </tr>\n",
              "    <tr>\n",
              "      <th>49642</th>\n",
              "      <td>0.0</td>\n",
              "      <td>2fffa725-5918-4f65-8e9f-59c2b79a676b</td>\n",
              "      <td>NaN</td>\n",
              "    </tr>\n",
              "    <tr>\n",
              "      <th>49544</th>\n",
              "      <td>0.0</td>\n",
              "      <td>2fffa725-5918-4f65-8e9f-59c2b79a676b</td>\n",
              "      <td>NaN</td>\n",
              "    </tr>\n",
              "    <tr>\n",
              "      <th>70657</th>\n",
              "      <td>0.0</td>\n",
              "      <td>2fffa725-5918-4f65-8e9f-59c2b79a676b</td>\n",
              "      <td>NaN</td>\n",
              "    </tr>\n",
              "    <tr>\n",
              "      <th>66905</th>\n",
              "      <td>0.0</td>\n",
              "      <td>2fffa725-5918-4f65-8e9f-59c2b79a676b</td>\n",
              "      <td>NaN</td>\n",
              "    </tr>\n",
              "    <tr>\n",
              "      <th>8957</th>\n",
              "      <td>0.0</td>\n",
              "      <td>2fffa725-5918-4f65-8e9f-59c2b79a676b</td>\n",
              "      <td>NaN</td>\n",
              "    </tr>\n",
              "    <tr>\n",
              "      <th>74983</th>\n",
              "      <td>0.0</td>\n",
              "      <td>2fffa725-5918-4f65-8e9f-59c2b79a676b</td>\n",
              "      <td>NaN</td>\n",
              "    </tr>\n",
              "    <tr>\n",
              "      <th>3576</th>\n",
              "      <td>0.0</td>\n",
              "      <td>2fffa725-5918-4f65-8e9f-59c2b79a676b</td>\n",
              "      <td>NaN</td>\n",
              "    </tr>\n",
              "    <tr>\n",
              "      <th>13621</th>\n",
              "      <td>0.0</td>\n",
              "      <td>2fffa725-5918-4f65-8e9f-59c2b79a676b</td>\n",
              "      <td>NaN</td>\n",
              "    </tr>\n",
              "    <tr>\n",
              "      <th>12552</th>\n",
              "      <td>0.0</td>\n",
              "      <td>2fffa725-5918-4f65-8e9f-59c2b79a676b</td>\n",
              "      <td>NaN</td>\n",
              "    </tr>\n",
              "    <tr>\n",
              "      <th>62856</th>\n",
              "      <td>0.0</td>\n",
              "      <td>2fffa725-5918-4f65-8e9f-59c2b79a676b</td>\n",
              "      <td>NaN</td>\n",
              "    </tr>\n",
              "    <tr>\n",
              "      <th>62771</th>\n",
              "      <td>0.0</td>\n",
              "      <td>2fffa725-5918-4f65-8e9f-59c2b79a676b</td>\n",
              "      <td>NaN</td>\n",
              "    </tr>\n",
              "    <tr>\n",
              "      <th>39624</th>\n",
              "      <td>2.0</td>\n",
              "      <td>2fffa725-5918-4f65-8e9f-59c2b79a676b</td>\n",
              "      <td>NaN</td>\n",
              "    </tr>\n",
              "  </tbody>\n",
              "</table>\n",
              "</div>\n",
              "      <button class=\"colab-df-convert\" onclick=\"convertToInteractive('df-5faea9dd-11ab-4de5-8bd8-79dbcf3e0692')\"\n",
              "              title=\"Convert this dataframe to an interactive table.\"\n",
              "              style=\"display:none;\">\n",
              "        \n",
              "  <svg xmlns=\"http://www.w3.org/2000/svg\" height=\"24px\"viewBox=\"0 0 24 24\"\n",
              "       width=\"24px\">\n",
              "    <path d=\"M0 0h24v24H0V0z\" fill=\"none\"/>\n",
              "    <path d=\"M18.56 5.44l.94 2.06.94-2.06 2.06-.94-2.06-.94-.94-2.06-.94 2.06-2.06.94zm-11 1L8.5 8.5l.94-2.06 2.06-.94-2.06-.94L8.5 2.5l-.94 2.06-2.06.94zm10 10l.94 2.06.94-2.06 2.06-.94-2.06-.94-.94-2.06-.94 2.06-2.06.94z\"/><path d=\"M17.41 7.96l-1.37-1.37c-.4-.4-.92-.59-1.43-.59-.52 0-1.04.2-1.43.59L10.3 9.45l-7.72 7.72c-.78.78-.78 2.05 0 2.83L4 21.41c.39.39.9.59 1.41.59.51 0 1.02-.2 1.41-.59l7.78-7.78 2.81-2.81c.8-.78.8-2.07 0-2.86zM5.41 20L4 18.59l7.72-7.72 1.47 1.35L5.41 20z\"/>\n",
              "  </svg>\n",
              "      </button>\n",
              "      \n",
              "  <style>\n",
              "    .colab-df-container {\n",
              "      display:flex;\n",
              "      flex-wrap:wrap;\n",
              "      gap: 12px;\n",
              "    }\n",
              "\n",
              "    .colab-df-convert {\n",
              "      background-color: #E8F0FE;\n",
              "      border: none;\n",
              "      border-radius: 50%;\n",
              "      cursor: pointer;\n",
              "      display: none;\n",
              "      fill: #1967D2;\n",
              "      height: 32px;\n",
              "      padding: 0 0 0 0;\n",
              "      width: 32px;\n",
              "    }\n",
              "\n",
              "    .colab-df-convert:hover {\n",
              "      background-color: #E2EBFA;\n",
              "      box-shadow: 0px 1px 2px rgba(60, 64, 67, 0.3), 0px 1px 3px 1px rgba(60, 64, 67, 0.15);\n",
              "      fill: #174EA6;\n",
              "    }\n",
              "\n",
              "    [theme=dark] .colab-df-convert {\n",
              "      background-color: #3B4455;\n",
              "      fill: #D2E3FC;\n",
              "    }\n",
              "\n",
              "    [theme=dark] .colab-df-convert:hover {\n",
              "      background-color: #434B5C;\n",
              "      box-shadow: 0px 1px 3px 1px rgba(0, 0, 0, 0.15);\n",
              "      filter: drop-shadow(0px 1px 2px rgba(0, 0, 0, 0.3));\n",
              "      fill: #FFFFFF;\n",
              "    }\n",
              "  </style>\n",
              "\n",
              "      <script>\n",
              "        const buttonEl =\n",
              "          document.querySelector('#df-5faea9dd-11ab-4de5-8bd8-79dbcf3e0692 button.colab-df-convert');\n",
              "        buttonEl.style.display =\n",
              "          google.colab.kernel.accessAllowed ? 'block' : 'none';\n",
              "\n",
              "        async function convertToInteractive(key) {\n",
              "          const element = document.querySelector('#df-5faea9dd-11ab-4de5-8bd8-79dbcf3e0692');\n",
              "          const dataTable =\n",
              "            await google.colab.kernel.invokeFunction('convertToInteractive',\n",
              "                                                     [key], {});\n",
              "          if (!dataTable) return;\n",
              "\n",
              "          const docLinkHtml = 'Like what you see? Visit the ' +\n",
              "            '<a target=\"_blank\" href=https://colab.research.google.com/notebooks/data_table.ipynb>data table notebook</a>'\n",
              "            + ' to learn more about interactive tables.';\n",
              "          element.innerHTML = '';\n",
              "          dataTable['output_type'] = 'display_data';\n",
              "          await google.colab.output.renderOutput(dataTable, element);\n",
              "          const docLink = document.createElement('div');\n",
              "          docLink.innerHTML = docLinkHtml;\n",
              "          element.appendChild(docLink);\n",
              "        }\n",
              "      </script>\n",
              "    </div>\n",
              "  </div>\n",
              "  "
            ],
            "application/vnd.google.colaboratory.module+javascript": "\n      import \"https://ssl.gstatic.com/colaboratory/data_table/fb998edc550c7947/data_table.js\";\n\n      window.createDataTable({\n        data: [[{\n            'v': 27039,\n            'f': \"27039\",\n        },\n{\n            'v': 0.0,\n            'f': \"0.0\",\n        },\n\"2fffa725-5918-4f65-8e9f-59c2b79a676b\",\n{\n            'v': NaN,\n            'f': \"NaN\",\n        }],\n [{\n            'v': 57907,\n            'f': \"57907\",\n        },\n{\n            'v': 0.0,\n            'f': \"0.0\",\n        },\n\"2fffa725-5918-4f65-8e9f-59c2b79a676b\",\n{\n            'v': NaN,\n            'f': \"NaN\",\n        }],\n [{\n            'v': 53172,\n            'f': \"53172\",\n        },\n{\n            'v': 0.0,\n            'f': \"0.0\",\n        },\n\"2fffa725-5918-4f65-8e9f-59c2b79a676b\",\n{\n            'v': 866200322048.0,\n            'f': \"866200322048.0\",\n        }],\n [{\n            'v': 45182,\n            'f': \"45182\",\n        },\n{\n            'v': 0.0,\n            'f': \"0.0\",\n        },\n\"2fffa725-5918-4f65-8e9f-59c2b79a676b\",\n{\n            'v': NaN,\n            'f': \"NaN\",\n        }],\n [{\n            'v': 31720,\n            'f': \"31720\",\n        },\n{\n            'v': 0.0,\n            'f': \"0.0\",\n        },\n\"2fffa725-5918-4f65-8e9f-59c2b79a676b\",\n{\n            'v': NaN,\n            'f': \"NaN\",\n        }],\n [{\n            'v': 30953,\n            'f': \"30953\",\n        },\n{\n            'v': 0.0,\n            'f': \"0.0\",\n        },\n\"2fffa725-5918-4f65-8e9f-59c2b79a676b\",\n{\n            'v': NaN,\n            'f': \"NaN\",\n        }],\n [{\n            'v': 35661,\n            'f': \"35661\",\n        },\n{\n            'v': 0.0,\n            'f': \"0.0\",\n        },\n\"2fffa725-5918-4f65-8e9f-59c2b79a676b\",\n{\n            'v': NaN,\n            'f': \"NaN\",\n        }],\n [{\n            'v': 49642,\n            'f': \"49642\",\n        },\n{\n            'v': 0.0,\n            'f': \"0.0\",\n        },\n\"2fffa725-5918-4f65-8e9f-59c2b79a676b\",\n{\n            'v': NaN,\n            'f': \"NaN\",\n        }],\n [{\n            'v': 49544,\n            'f': \"49544\",\n        },\n{\n            'v': 0.0,\n            'f': \"0.0\",\n        },\n\"2fffa725-5918-4f65-8e9f-59c2b79a676b\",\n{\n            'v': NaN,\n            'f': \"NaN\",\n        }],\n [{\n            'v': 70657,\n            'f': \"70657\",\n        },\n{\n            'v': 0.0,\n            'f': \"0.0\",\n        },\n\"2fffa725-5918-4f65-8e9f-59c2b79a676b\",\n{\n            'v': NaN,\n            'f': \"NaN\",\n        }],\n [{\n            'v': 66905,\n            'f': \"66905\",\n        },\n{\n            'v': 0.0,\n            'f': \"0.0\",\n        },\n\"2fffa725-5918-4f65-8e9f-59c2b79a676b\",\n{\n            'v': NaN,\n            'f': \"NaN\",\n        }],\n [{\n            'v': 8957,\n            'f': \"8957\",\n        },\n{\n            'v': 0.0,\n            'f': \"0.0\",\n        },\n\"2fffa725-5918-4f65-8e9f-59c2b79a676b\",\n{\n            'v': NaN,\n            'f': \"NaN\",\n        }],\n [{\n            'v': 74983,\n            'f': \"74983\",\n        },\n{\n            'v': 0.0,\n            'f': \"0.0\",\n        },\n\"2fffa725-5918-4f65-8e9f-59c2b79a676b\",\n{\n            'v': NaN,\n            'f': \"NaN\",\n        }],\n [{\n            'v': 3576,\n            'f': \"3576\",\n        },\n{\n            'v': 0.0,\n            'f': \"0.0\",\n        },\n\"2fffa725-5918-4f65-8e9f-59c2b79a676b\",\n{\n            'v': NaN,\n            'f': \"NaN\",\n        }],\n [{\n            'v': 13621,\n            'f': \"13621\",\n        },\n{\n            'v': 0.0,\n            'f': \"0.0\",\n        },\n\"2fffa725-5918-4f65-8e9f-59c2b79a676b\",\n{\n            'v': NaN,\n            'f': \"NaN\",\n        }],\n [{\n            'v': 12552,\n            'f': \"12552\",\n        },\n{\n            'v': 0.0,\n            'f': \"0.0\",\n        },\n\"2fffa725-5918-4f65-8e9f-59c2b79a676b\",\n{\n            'v': NaN,\n            'f': \"NaN\",\n        }],\n [{\n            'v': 62856,\n            'f': \"62856\",\n        },\n{\n            'v': 0.0,\n            'f': \"0.0\",\n        },\n\"2fffa725-5918-4f65-8e9f-59c2b79a676b\",\n{\n            'v': NaN,\n            'f': \"NaN\",\n        }],\n [{\n            'v': 62771,\n            'f': \"62771\",\n        },\n{\n            'v': 0.0,\n            'f': \"0.0\",\n        },\n\"2fffa725-5918-4f65-8e9f-59c2b79a676b\",\n{\n            'v': NaN,\n            'f': \"NaN\",\n        }],\n [{\n            'v': 39624,\n            'f': \"39624\",\n        },\n{\n            'v': 2.0,\n            'f': \"2.0\",\n        },\n\"2fffa725-5918-4f65-8e9f-59c2b79a676b\",\n{\n            'v': NaN,\n            'f': \"NaN\",\n        }]],\n        columns: [[\"number\", \"index\"], [\"number\", \"owner\"], [\"string\", \"id\"], [\"number\", \"bytes\"]],\n        columnOptions: [{\"width\": \"1px\", \"className\": \"index_column\"}],\n        rowsPerPage: 25,\n        helpUrl: \"https://colab.research.google.com/notebooks/data_table.ipynb\",\n        suppressOutputScrolling: true,\n        minimumWidth: undefined,\n      });\n    "
          },
          "metadata": {},
          "execution_count": 120
        }
      ]
    },
    {
      "cell_type": "markdown",
      "source": [
        "Interesting finding, suggests that there are many of the same queries instances withing the GetQueryResultsResponse table. Dropping duplicates by Id and Bytes should bring remove all the duplicate nans."
      ],
      "metadata": {
        "id": "TrD0XhTJc7G9"
      }
    },
    {
      "cell_type": "code",
      "source": [
        "check = cut_table.drop_duplicates(subset=['id', 'bytes'])"
      ],
      "metadata": {
        "id": "A42cwIIbaHzH"
      },
      "execution_count": 123,
      "outputs": []
    },
    {
      "cell_type": "code",
      "source": [
        "check.id.value_counts() # Identify which Ids are still duplicates."
      ],
      "metadata": {
        "id": "TDGJEyUldKiK",
        "outputId": "ca5355d2-9b3c-42c8-8c97-71fa06fbea7a",
        "colab": {
          "base_uri": "https://localhost:8080/"
        }
      },
      "execution_count": 126,
      "outputs": [
        {
          "output_type": "execute_result",
          "data": {
            "text/plain": [
              "a369be15-6a64-4934-b370-094a469353cd    5\n",
              "6e8b0808-b0e0-484e-a6b0-c407f86a9077    4\n",
              "dfb57564-bfef-4020-879b-b1a7d6293166    3\n",
              "6073936a-2772-4d15-bb3e-414bcb2643d2    3\n",
              "81a581a0-0b8a-4257-9392-b2530ca12ecb    3\n",
              "                                       ..\n",
              "job_eJq3_KsNEJzwApNq0sh2q4TzMMJa        1\n",
              "job_JqzMuthF5134X-rgO4cCcbNARFKX        1\n",
              "job_J_Y1-DQiBV3_oYc84UeGdYlHN0SB        1\n",
              "job_uda8mj1yxoxXImRqke-swOwC-sdV        1\n",
              "08de21b9-46e9-47a3-8605-c023155f4ceb    1\n",
              "Name: id, Length: 35454, dtype: int64"
            ]
          },
          "metadata": {},
          "execution_count": 126
        }
      ]
    },
    {
      "cell_type": "code",
      "source": [
        "check[check['id'] == 'a369be15-6a64-4934-b370-094a469353cd']"
      ],
      "metadata": {
        "id": "fdxl3ZSvdZGw",
        "outputId": "92c8c94c-f723-461e-c714-14ccb48bc8d1",
        "colab": {
          "base_uri": "https://localhost:8080/",
          "height": 198
        }
      },
      "execution_count": 129,
      "outputs": [
        {
          "output_type": "execute_result",
          "data": {
            "text/plain": [
              "       owner                                    id         bytes\n",
              "36155    0.0  a369be15-6a64-4934-b370-094a469353cd  4.204790e+09\n",
              "71119    0.0  a369be15-6a64-4934-b370-094a469353cd  3.102632e+10\n",
              "67041    0.0  a369be15-6a64-4934-b370-094a469353cd  1.869611e+09\n",
              "12807    0.0  a369be15-6a64-4934-b370-094a469353cd  1.782579e+08\n",
              "65736    2.0  a369be15-6a64-4934-b370-094a469353cd           NaN"
            ],
            "text/html": [
              "\n",
              "  <div id=\"df-2d77278e-1c2c-4bec-8b43-3d0bb50457d2\">\n",
              "    <div class=\"colab-df-container\">\n",
              "      <div>\n",
              "<style scoped>\n",
              "    .dataframe tbody tr th:only-of-type {\n",
              "        vertical-align: middle;\n",
              "    }\n",
              "\n",
              "    .dataframe tbody tr th {\n",
              "        vertical-align: top;\n",
              "    }\n",
              "\n",
              "    .dataframe thead th {\n",
              "        text-align: right;\n",
              "    }\n",
              "</style>\n",
              "<table border=\"1\" class=\"dataframe\">\n",
              "  <thead>\n",
              "    <tr style=\"text-align: right;\">\n",
              "      <th></th>\n",
              "      <th>owner</th>\n",
              "      <th>id</th>\n",
              "      <th>bytes</th>\n",
              "    </tr>\n",
              "  </thead>\n",
              "  <tbody>\n",
              "    <tr>\n",
              "      <th>36155</th>\n",
              "      <td>0.0</td>\n",
              "      <td>a369be15-6a64-4934-b370-094a469353cd</td>\n",
              "      <td>4.204790e+09</td>\n",
              "    </tr>\n",
              "    <tr>\n",
              "      <th>71119</th>\n",
              "      <td>0.0</td>\n",
              "      <td>a369be15-6a64-4934-b370-094a469353cd</td>\n",
              "      <td>3.102632e+10</td>\n",
              "    </tr>\n",
              "    <tr>\n",
              "      <th>67041</th>\n",
              "      <td>0.0</td>\n",
              "      <td>a369be15-6a64-4934-b370-094a469353cd</td>\n",
              "      <td>1.869611e+09</td>\n",
              "    </tr>\n",
              "    <tr>\n",
              "      <th>12807</th>\n",
              "      <td>0.0</td>\n",
              "      <td>a369be15-6a64-4934-b370-094a469353cd</td>\n",
              "      <td>1.782579e+08</td>\n",
              "    </tr>\n",
              "    <tr>\n",
              "      <th>65736</th>\n",
              "      <td>2.0</td>\n",
              "      <td>a369be15-6a64-4934-b370-094a469353cd</td>\n",
              "      <td>NaN</td>\n",
              "    </tr>\n",
              "  </tbody>\n",
              "</table>\n",
              "</div>\n",
              "      <button class=\"colab-df-convert\" onclick=\"convertToInteractive('df-2d77278e-1c2c-4bec-8b43-3d0bb50457d2')\"\n",
              "              title=\"Convert this dataframe to an interactive table.\"\n",
              "              style=\"display:none;\">\n",
              "        \n",
              "  <svg xmlns=\"http://www.w3.org/2000/svg\" height=\"24px\"viewBox=\"0 0 24 24\"\n",
              "       width=\"24px\">\n",
              "    <path d=\"M0 0h24v24H0V0z\" fill=\"none\"/>\n",
              "    <path d=\"M18.56 5.44l.94 2.06.94-2.06 2.06-.94-2.06-.94-.94-2.06-.94 2.06-2.06.94zm-11 1L8.5 8.5l.94-2.06 2.06-.94-2.06-.94L8.5 2.5l-.94 2.06-2.06.94zm10 10l.94 2.06.94-2.06 2.06-.94-2.06-.94-.94-2.06-.94 2.06-2.06.94z\"/><path d=\"M17.41 7.96l-1.37-1.37c-.4-.4-.92-.59-1.43-.59-.52 0-1.04.2-1.43.59L10.3 9.45l-7.72 7.72c-.78.78-.78 2.05 0 2.83L4 21.41c.39.39.9.59 1.41.59.51 0 1.02-.2 1.41-.59l7.78-7.78 2.81-2.81c.8-.78.8-2.07 0-2.86zM5.41 20L4 18.59l7.72-7.72 1.47 1.35L5.41 20z\"/>\n",
              "  </svg>\n",
              "      </button>\n",
              "      \n",
              "  <style>\n",
              "    .colab-df-container {\n",
              "      display:flex;\n",
              "      flex-wrap:wrap;\n",
              "      gap: 12px;\n",
              "    }\n",
              "\n",
              "    .colab-df-convert {\n",
              "      background-color: #E8F0FE;\n",
              "      border: none;\n",
              "      border-radius: 50%;\n",
              "      cursor: pointer;\n",
              "      display: none;\n",
              "      fill: #1967D2;\n",
              "      height: 32px;\n",
              "      padding: 0 0 0 0;\n",
              "      width: 32px;\n",
              "    }\n",
              "\n",
              "    .colab-df-convert:hover {\n",
              "      background-color: #E2EBFA;\n",
              "      box-shadow: 0px 1px 2px rgba(60, 64, 67, 0.3), 0px 1px 3px 1px rgba(60, 64, 67, 0.15);\n",
              "      fill: #174EA6;\n",
              "    }\n",
              "\n",
              "    [theme=dark] .colab-df-convert {\n",
              "      background-color: #3B4455;\n",
              "      fill: #D2E3FC;\n",
              "    }\n",
              "\n",
              "    [theme=dark] .colab-df-convert:hover {\n",
              "      background-color: #434B5C;\n",
              "      box-shadow: 0px 1px 3px 1px rgba(0, 0, 0, 0.15);\n",
              "      filter: drop-shadow(0px 1px 2px rgba(0, 0, 0, 0.3));\n",
              "      fill: #FFFFFF;\n",
              "    }\n",
              "  </style>\n",
              "\n",
              "      <script>\n",
              "        const buttonEl =\n",
              "          document.querySelector('#df-2d77278e-1c2c-4bec-8b43-3d0bb50457d2 button.colab-df-convert');\n",
              "        buttonEl.style.display =\n",
              "          google.colab.kernel.accessAllowed ? 'block' : 'none';\n",
              "\n",
              "        async function convertToInteractive(key) {\n",
              "          const element = document.querySelector('#df-2d77278e-1c2c-4bec-8b43-3d0bb50457d2');\n",
              "          const dataTable =\n",
              "            await google.colab.kernel.invokeFunction('convertToInteractive',\n",
              "                                                     [key], {});\n",
              "          if (!dataTable) return;\n",
              "\n",
              "          const docLinkHtml = 'Like what you see? Visit the ' +\n",
              "            '<a target=\"_blank\" href=https://colab.research.google.com/notebooks/data_table.ipynb>data table notebook</a>'\n",
              "            + ' to learn more about interactive tables.';\n",
              "          element.innerHTML = '';\n",
              "          dataTable['output_type'] = 'display_data';\n",
              "          await google.colab.output.renderOutput(dataTable, element);\n",
              "          const docLink = document.createElement('div');\n",
              "          docLink.innerHTML = docLinkHtml;\n",
              "          element.appendChild(docLink);\n",
              "        }\n",
              "      </script>\n",
              "    </div>\n",
              "  </div>\n",
              "  "
            ],
            "application/vnd.google.colaboratory.module+javascript": "\n      import \"https://ssl.gstatic.com/colaboratory/data_table/fb998edc550c7947/data_table.js\";\n\n      window.createDataTable({\n        data: [[{\n            'v': 36155,\n            'f': \"36155\",\n        },\n{\n            'v': 0.0,\n            'f': \"0.0\",\n        },\n\"a369be15-6a64-4934-b370-094a469353cd\",\n{\n            'v': 4204789760.0,\n            'f': \"4204789760.0\",\n        }],\n [{\n            'v': 71119,\n            'f': \"71119\",\n        },\n{\n            'v': 0.0,\n            'f': \"0.0\",\n        },\n\"a369be15-6a64-4934-b370-094a469353cd\",\n{\n            'v': 31026315264.0,\n            'f': \"31026315264.0\",\n        }],\n [{\n            'v': 67041,\n            'f': \"67041\",\n        },\n{\n            'v': 0.0,\n            'f': \"0.0\",\n        },\n\"a369be15-6a64-4934-b370-094a469353cd\",\n{\n            'v': 1869611008.0,\n            'f': \"1869611008.0\",\n        }],\n [{\n            'v': 12807,\n            'f': \"12807\",\n        },\n{\n            'v': 0.0,\n            'f': \"0.0\",\n        },\n\"a369be15-6a64-4934-b370-094a469353cd\",\n{\n            'v': 178257920.0,\n            'f': \"178257920.0\",\n        }],\n [{\n            'v': 65736,\n            'f': \"65736\",\n        },\n{\n            'v': 2.0,\n            'f': \"2.0\",\n        },\n\"a369be15-6a64-4934-b370-094a469353cd\",\n{\n            'v': NaN,\n            'f': \"NaN\",\n        }]],\n        columns: [[\"number\", \"index\"], [\"number\", \"owner\"], [\"string\", \"id\"], [\"number\", \"bytes\"]],\n        columnOptions: [{\"width\": \"1px\", \"className\": \"index_column\"}],\n        rowsPerPage: 25,\n        helpUrl: \"https://colab.research.google.com/notebooks/data_table.ipynb\",\n        suppressOutputScrolling: true,\n        minimumWidth: undefined,\n      });\n    "
          },
          "metadata": {},
          "execution_count": 129
        }
      ]
    },
    {
      "cell_type": "code",
      "source": [
        "check[check['id'] == 'dfb57564-bfef-4020-879b-b1a7d6293166']"
      ],
      "metadata": {
        "id": "IVvGD6t5ciES",
        "outputId": "a74046cc-64f9-4353-dcea-e96c970d8dd2",
        "colab": {
          "base_uri": "https://localhost:8080/",
          "height": 154
        }
      },
      "execution_count": 128,
      "outputs": [
        {
          "output_type": "execute_result",
          "data": {
            "text/plain": [
              "       owner                                    id         bytes\n",
              "67204    0.0  dfb57564-bfef-4020-879b-b1a7d6293166  6.237769e+10\n",
              "9045     0.0  dfb57564-bfef-4020-879b-b1a7d6293166           NaN\n",
              "75880    0.0  dfb57564-bfef-4020-879b-b1a7d6293166  1.605401e+11"
            ],
            "text/html": [
              "\n",
              "  <div id=\"df-f702f3c6-3e53-471b-8ece-326176cf0f2d\">\n",
              "    <div class=\"colab-df-container\">\n",
              "      <div>\n",
              "<style scoped>\n",
              "    .dataframe tbody tr th:only-of-type {\n",
              "        vertical-align: middle;\n",
              "    }\n",
              "\n",
              "    .dataframe tbody tr th {\n",
              "        vertical-align: top;\n",
              "    }\n",
              "\n",
              "    .dataframe thead th {\n",
              "        text-align: right;\n",
              "    }\n",
              "</style>\n",
              "<table border=\"1\" class=\"dataframe\">\n",
              "  <thead>\n",
              "    <tr style=\"text-align: right;\">\n",
              "      <th></th>\n",
              "      <th>owner</th>\n",
              "      <th>id</th>\n",
              "      <th>bytes</th>\n",
              "    </tr>\n",
              "  </thead>\n",
              "  <tbody>\n",
              "    <tr>\n",
              "      <th>67204</th>\n",
              "      <td>0.0</td>\n",
              "      <td>dfb57564-bfef-4020-879b-b1a7d6293166</td>\n",
              "      <td>6.237769e+10</td>\n",
              "    </tr>\n",
              "    <tr>\n",
              "      <th>9045</th>\n",
              "      <td>0.0</td>\n",
              "      <td>dfb57564-bfef-4020-879b-b1a7d6293166</td>\n",
              "      <td>NaN</td>\n",
              "    </tr>\n",
              "    <tr>\n",
              "      <th>75880</th>\n",
              "      <td>0.0</td>\n",
              "      <td>dfb57564-bfef-4020-879b-b1a7d6293166</td>\n",
              "      <td>1.605401e+11</td>\n",
              "    </tr>\n",
              "  </tbody>\n",
              "</table>\n",
              "</div>\n",
              "      <button class=\"colab-df-convert\" onclick=\"convertToInteractive('df-f702f3c6-3e53-471b-8ece-326176cf0f2d')\"\n",
              "              title=\"Convert this dataframe to an interactive table.\"\n",
              "              style=\"display:none;\">\n",
              "        \n",
              "  <svg xmlns=\"http://www.w3.org/2000/svg\" height=\"24px\"viewBox=\"0 0 24 24\"\n",
              "       width=\"24px\">\n",
              "    <path d=\"M0 0h24v24H0V0z\" fill=\"none\"/>\n",
              "    <path d=\"M18.56 5.44l.94 2.06.94-2.06 2.06-.94-2.06-.94-.94-2.06-.94 2.06-2.06.94zm-11 1L8.5 8.5l.94-2.06 2.06-.94-2.06-.94L8.5 2.5l-.94 2.06-2.06.94zm10 10l.94 2.06.94-2.06 2.06-.94-2.06-.94-.94-2.06-.94 2.06-2.06.94z\"/><path d=\"M17.41 7.96l-1.37-1.37c-.4-.4-.92-.59-1.43-.59-.52 0-1.04.2-1.43.59L10.3 9.45l-7.72 7.72c-.78.78-.78 2.05 0 2.83L4 21.41c.39.39.9.59 1.41.59.51 0 1.02-.2 1.41-.59l7.78-7.78 2.81-2.81c.8-.78.8-2.07 0-2.86zM5.41 20L4 18.59l7.72-7.72 1.47 1.35L5.41 20z\"/>\n",
              "  </svg>\n",
              "      </button>\n",
              "      \n",
              "  <style>\n",
              "    .colab-df-container {\n",
              "      display:flex;\n",
              "      flex-wrap:wrap;\n",
              "      gap: 12px;\n",
              "    }\n",
              "\n",
              "    .colab-df-convert {\n",
              "      background-color: #E8F0FE;\n",
              "      border: none;\n",
              "      border-radius: 50%;\n",
              "      cursor: pointer;\n",
              "      display: none;\n",
              "      fill: #1967D2;\n",
              "      height: 32px;\n",
              "      padding: 0 0 0 0;\n",
              "      width: 32px;\n",
              "    }\n",
              "\n",
              "    .colab-df-convert:hover {\n",
              "      background-color: #E2EBFA;\n",
              "      box-shadow: 0px 1px 2px rgba(60, 64, 67, 0.3), 0px 1px 3px 1px rgba(60, 64, 67, 0.15);\n",
              "      fill: #174EA6;\n",
              "    }\n",
              "\n",
              "    [theme=dark] .colab-df-convert {\n",
              "      background-color: #3B4455;\n",
              "      fill: #D2E3FC;\n",
              "    }\n",
              "\n",
              "    [theme=dark] .colab-df-convert:hover {\n",
              "      background-color: #434B5C;\n",
              "      box-shadow: 0px 1px 3px 1px rgba(0, 0, 0, 0.15);\n",
              "      filter: drop-shadow(0px 1px 2px rgba(0, 0, 0, 0.3));\n",
              "      fill: #FFFFFF;\n",
              "    }\n",
              "  </style>\n",
              "\n",
              "      <script>\n",
              "        const buttonEl =\n",
              "          document.querySelector('#df-f702f3c6-3e53-471b-8ece-326176cf0f2d button.colab-df-convert');\n",
              "        buttonEl.style.display =\n",
              "          google.colab.kernel.accessAllowed ? 'block' : 'none';\n",
              "\n",
              "        async function convertToInteractive(key) {\n",
              "          const element = document.querySelector('#df-f702f3c6-3e53-471b-8ece-326176cf0f2d');\n",
              "          const dataTable =\n",
              "            await google.colab.kernel.invokeFunction('convertToInteractive',\n",
              "                                                     [key], {});\n",
              "          if (!dataTable) return;\n",
              "\n",
              "          const docLinkHtml = 'Like what you see? Visit the ' +\n",
              "            '<a target=\"_blank\" href=https://colab.research.google.com/notebooks/data_table.ipynb>data table notebook</a>'\n",
              "            + ' to learn more about interactive tables.';\n",
              "          element.innerHTML = '';\n",
              "          dataTable['output_type'] = 'display_data';\n",
              "          await google.colab.output.renderOutput(dataTable, element);\n",
              "          const docLink = document.createElement('div');\n",
              "          docLink.innerHTML = docLinkHtml;\n",
              "          element.appendChild(docLink);\n",
              "        }\n",
              "      </script>\n",
              "    </div>\n",
              "  </div>\n",
              "  "
            ],
            "application/vnd.google.colaboratory.module+javascript": "\n      import \"https://ssl.gstatic.com/colaboratory/data_table/fb998edc550c7947/data_table.js\";\n\n      window.createDataTable({\n        data: [[{\n            'v': 67204,\n            'f': \"67204\",\n        },\n{\n            'v': 0.0,\n            'f': \"0.0\",\n        },\n\"dfb57564-bfef-4020-879b-b1a7d6293166\",\n{\n            'v': 62377689088.0,\n            'f': \"62377689088.0\",\n        }],\n [{\n            'v': 9045,\n            'f': \"9045\",\n        },\n{\n            'v': 0.0,\n            'f': \"0.0\",\n        },\n\"dfb57564-bfef-4020-879b-b1a7d6293166\",\n{\n            'v': NaN,\n            'f': \"NaN\",\n        }],\n [{\n            'v': 75880,\n            'f': \"75880\",\n        },\n{\n            'v': 0.0,\n            'f': \"0.0\",\n        },\n\"dfb57564-bfef-4020-879b-b1a7d6293166\",\n{\n            'v': 160540131328.0,\n            'f': \"160540131328.0\",\n        }]],\n        columns: [[\"number\", \"index\"], [\"number\", \"owner\"], [\"string\", \"id\"], [\"number\", \"bytes\"]],\n        columnOptions: [{\"width\": \"1px\", \"className\": \"index_column\"}],\n        rowsPerPage: 25,\n        helpUrl: \"https://colab.research.google.com/notebooks/data_table.ipynb\",\n        suppressOutputScrolling: true,\n        minimumWidth: undefined,\n      });\n    "
          },
          "metadata": {},
          "execution_count": 128
        }
      ]
    },
    {
      "cell_type": "markdown",
      "source": [
        "This reinforces that not only are there many of the same rows with the same job id, but that they have different Byte sizes. Troublesome. "
      ],
      "metadata": {
        "id": "HvQ_ZA-EddVQ"
      }
    },
    {
      "cell_type": "markdown",
      "source": [
        "My theory is that the latest instance is the most up to date. I will look into the table and see when the Http request was made to the Api and take the most recent version. "
      ],
      "metadata": {
        "id": "yLNlWp2HdniY"
      }
    },
    {
      "cell_type": "markdown",
      "source": [
        "## Timestamp analysis"
      ],
      "metadata": {
        "id": "Ds4LkEUVeyxo"
      }
    },
    {
      "cell_type": "code",
      "source": [
        "timestamp_job = client.get_job('bquxjob_12ce3be6_1853a85a92d') # Job ID inserted based on the query results selected to explore\n",
        "timestamp_results = timestamp_job.to_dataframe()\n",
        "timestamp_results"
      ],
      "metadata": {
        "id": "RgqRga_be5Ii",
        "outputId": "3fd02ab5-a5c2-486f-fbbd-fbb2346ff0c1",
        "colab": {
          "base_uri": "https://localhost:8080/",
          "height": 441
        }
      },
      "execution_count": 145,
      "outputs": [
        {
          "output_type": "stream",
          "name": "stdout",
          "text": [
            "Warning: total number of rows (1226906) exceeds max_rows (20000). Falling back to pandas display.\n"
          ]
        },
        {
          "output_type": "execute_result",
          "data": {
            "text/plain": [
              "                               timestamp                 receiveTimestamp  \\\n",
              "0       2022-12-13 11:17:46.177782+00:00 2022-12-13 11:17:46.702342+00:00   \n",
              "1       2022-12-13 13:57:55.888097+00:00 2022-12-13 13:57:56.712258+00:00   \n",
              "2       2022-12-13 03:43:11.231126+00:00 2022-12-13 03:43:11.826887+00:00   \n",
              "3       2022-12-13 08:11:55.353716+00:00 2022-12-13 08:11:56.336663+00:00   \n",
              "4       2022-12-13 09:11:19.735076+00:00 2022-12-13 09:11:20.338429+00:00   \n",
              "...                                  ...                              ...   \n",
              "1226901 2022-12-13 02:09:31.340255+00:00 2022-12-13 02:09:32.259585+00:00   \n",
              "1226902 2022-12-13 00:56:11.096076+00:00 2022-12-13 00:56:11.565943+00:00   \n",
              "1226903 2022-12-13 01:01:51.032536+00:00 2022-12-13 01:01:51.669488+00:00   \n",
              "1226904 2022-12-13 05:56:11.592172+00:00 2022-12-13 05:56:12.336330+00:00   \n",
              "1226905 2022-12-13 00:35:07.800013+00:00 2022-12-13 00:35:07.944713+00:00   \n",
              "\n",
              "                             project_id jobId  totalBilledBytes  \n",
              "0                  ric-eu-dl-cl-qal-prd  None              <NA>  \n",
              "1           ric-eu-grp-procurement-nprd  None              <NA>  \n",
              "2            ric-eu-dl-iot-poc-dev-nprd  None              <NA>  \n",
              "3            ric-eu-dl-iot-poc-dev-nprd  None              <NA>  \n",
              "4           ric-eu-grp-procurement-nprd  None              <NA>  \n",
              "...                                 ...   ...               ...  \n",
              "1226901  car-eu-datalake-mch-ms-ww-nprd  None              <NA>  \n",
              "1226902  car-eu-datalake-mch-ms-ww-nprd  None              <NA>  \n",
              "1226903  car-eu-datalake-mch-ms-ww-nprd  None              <NA>  \n",
              "1226904  car-eu-datalake-mch-ms-ww-nprd  None              <NA>  \n",
              "1226905  car-eu-datalake-mch-ms-ww-nprd  None              <NA>  \n",
              "\n",
              "[1226906 rows x 5 columns]"
            ],
            "text/html": [
              "\n",
              "  <div id=\"df-eda3903f-775a-4133-b591-1959e2b6b52b\">\n",
              "    <div class=\"colab-df-container\">\n",
              "      <div>\n",
              "<style scoped>\n",
              "    .dataframe tbody tr th:only-of-type {\n",
              "        vertical-align: middle;\n",
              "    }\n",
              "\n",
              "    .dataframe tbody tr th {\n",
              "        vertical-align: top;\n",
              "    }\n",
              "\n",
              "    .dataframe thead th {\n",
              "        text-align: right;\n",
              "    }\n",
              "</style>\n",
              "<table border=\"1\" class=\"dataframe\">\n",
              "  <thead>\n",
              "    <tr style=\"text-align: right;\">\n",
              "      <th></th>\n",
              "      <th>timestamp</th>\n",
              "      <th>receiveTimestamp</th>\n",
              "      <th>project_id</th>\n",
              "      <th>jobId</th>\n",
              "      <th>totalBilledBytes</th>\n",
              "    </tr>\n",
              "  </thead>\n",
              "  <tbody>\n",
              "    <tr>\n",
              "      <th>0</th>\n",
              "      <td>2022-12-13 11:17:46.177782+00:00</td>\n",
              "      <td>2022-12-13 11:17:46.702342+00:00</td>\n",
              "      <td>ric-eu-dl-cl-qal-prd</td>\n",
              "      <td>None</td>\n",
              "      <td>&lt;NA&gt;</td>\n",
              "    </tr>\n",
              "    <tr>\n",
              "      <th>1</th>\n",
              "      <td>2022-12-13 13:57:55.888097+00:00</td>\n",
              "      <td>2022-12-13 13:57:56.712258+00:00</td>\n",
              "      <td>ric-eu-grp-procurement-nprd</td>\n",
              "      <td>None</td>\n",
              "      <td>&lt;NA&gt;</td>\n",
              "    </tr>\n",
              "    <tr>\n",
              "      <th>2</th>\n",
              "      <td>2022-12-13 03:43:11.231126+00:00</td>\n",
              "      <td>2022-12-13 03:43:11.826887+00:00</td>\n",
              "      <td>ric-eu-dl-iot-poc-dev-nprd</td>\n",
              "      <td>None</td>\n",
              "      <td>&lt;NA&gt;</td>\n",
              "    </tr>\n",
              "    <tr>\n",
              "      <th>3</th>\n",
              "      <td>2022-12-13 08:11:55.353716+00:00</td>\n",
              "      <td>2022-12-13 08:11:56.336663+00:00</td>\n",
              "      <td>ric-eu-dl-iot-poc-dev-nprd</td>\n",
              "      <td>None</td>\n",
              "      <td>&lt;NA&gt;</td>\n",
              "    </tr>\n",
              "    <tr>\n",
              "      <th>4</th>\n",
              "      <td>2022-12-13 09:11:19.735076+00:00</td>\n",
              "      <td>2022-12-13 09:11:20.338429+00:00</td>\n",
              "      <td>ric-eu-grp-procurement-nprd</td>\n",
              "      <td>None</td>\n",
              "      <td>&lt;NA&gt;</td>\n",
              "    </tr>\n",
              "    <tr>\n",
              "      <th>...</th>\n",
              "      <td>...</td>\n",
              "      <td>...</td>\n",
              "      <td>...</td>\n",
              "      <td>...</td>\n",
              "      <td>...</td>\n",
              "    </tr>\n",
              "    <tr>\n",
              "      <th>1226901</th>\n",
              "      <td>2022-12-13 02:09:31.340255+00:00</td>\n",
              "      <td>2022-12-13 02:09:32.259585+00:00</td>\n",
              "      <td>car-eu-datalake-mch-ms-ww-nprd</td>\n",
              "      <td>None</td>\n",
              "      <td>&lt;NA&gt;</td>\n",
              "    </tr>\n",
              "    <tr>\n",
              "      <th>1226902</th>\n",
              "      <td>2022-12-13 00:56:11.096076+00:00</td>\n",
              "      <td>2022-12-13 00:56:11.565943+00:00</td>\n",
              "      <td>car-eu-datalake-mch-ms-ww-nprd</td>\n",
              "      <td>None</td>\n",
              "      <td>&lt;NA&gt;</td>\n",
              "    </tr>\n",
              "    <tr>\n",
              "      <th>1226903</th>\n",
              "      <td>2022-12-13 01:01:51.032536+00:00</td>\n",
              "      <td>2022-12-13 01:01:51.669488+00:00</td>\n",
              "      <td>car-eu-datalake-mch-ms-ww-nprd</td>\n",
              "      <td>None</td>\n",
              "      <td>&lt;NA&gt;</td>\n",
              "    </tr>\n",
              "    <tr>\n",
              "      <th>1226904</th>\n",
              "      <td>2022-12-13 05:56:11.592172+00:00</td>\n",
              "      <td>2022-12-13 05:56:12.336330+00:00</td>\n",
              "      <td>car-eu-datalake-mch-ms-ww-nprd</td>\n",
              "      <td>None</td>\n",
              "      <td>&lt;NA&gt;</td>\n",
              "    </tr>\n",
              "    <tr>\n",
              "      <th>1226905</th>\n",
              "      <td>2022-12-13 00:35:07.800013+00:00</td>\n",
              "      <td>2022-12-13 00:35:07.944713+00:00</td>\n",
              "      <td>car-eu-datalake-mch-ms-ww-nprd</td>\n",
              "      <td>None</td>\n",
              "      <td>&lt;NA&gt;</td>\n",
              "    </tr>\n",
              "  </tbody>\n",
              "</table>\n",
              "<p>1226906 rows × 5 columns</p>\n",
              "</div>\n",
              "      <button class=\"colab-df-convert\" onclick=\"convertToInteractive('df-eda3903f-775a-4133-b591-1959e2b6b52b')\"\n",
              "              title=\"Convert this dataframe to an interactive table.\"\n",
              "              style=\"display:none;\">\n",
              "        \n",
              "  <svg xmlns=\"http://www.w3.org/2000/svg\" height=\"24px\"viewBox=\"0 0 24 24\"\n",
              "       width=\"24px\">\n",
              "    <path d=\"M0 0h24v24H0V0z\" fill=\"none\"/>\n",
              "    <path d=\"M18.56 5.44l.94 2.06.94-2.06 2.06-.94-2.06-.94-.94-2.06-.94 2.06-2.06.94zm-11 1L8.5 8.5l.94-2.06 2.06-.94-2.06-.94L8.5 2.5l-.94 2.06-2.06.94zm10 10l.94 2.06.94-2.06 2.06-.94-2.06-.94-.94-2.06-.94 2.06-2.06.94z\"/><path d=\"M17.41 7.96l-1.37-1.37c-.4-.4-.92-.59-1.43-.59-.52 0-1.04.2-1.43.59L10.3 9.45l-7.72 7.72c-.78.78-.78 2.05 0 2.83L4 21.41c.39.39.9.59 1.41.59.51 0 1.02-.2 1.41-.59l7.78-7.78 2.81-2.81c.8-.78.8-2.07 0-2.86zM5.41 20L4 18.59l7.72-7.72 1.47 1.35L5.41 20z\"/>\n",
              "  </svg>\n",
              "      </button>\n",
              "      \n",
              "  <style>\n",
              "    .colab-df-container {\n",
              "      display:flex;\n",
              "      flex-wrap:wrap;\n",
              "      gap: 12px;\n",
              "    }\n",
              "\n",
              "    .colab-df-convert {\n",
              "      background-color: #E8F0FE;\n",
              "      border: none;\n",
              "      border-radius: 50%;\n",
              "      cursor: pointer;\n",
              "      display: none;\n",
              "      fill: #1967D2;\n",
              "      height: 32px;\n",
              "      padding: 0 0 0 0;\n",
              "      width: 32px;\n",
              "    }\n",
              "\n",
              "    .colab-df-convert:hover {\n",
              "      background-color: #E2EBFA;\n",
              "      box-shadow: 0px 1px 2px rgba(60, 64, 67, 0.3), 0px 1px 3px 1px rgba(60, 64, 67, 0.15);\n",
              "      fill: #174EA6;\n",
              "    }\n",
              "\n",
              "    [theme=dark] .colab-df-convert {\n",
              "      background-color: #3B4455;\n",
              "      fill: #D2E3FC;\n",
              "    }\n",
              "\n",
              "    [theme=dark] .colab-df-convert:hover {\n",
              "      background-color: #434B5C;\n",
              "      box-shadow: 0px 1px 3px 1px rgba(0, 0, 0, 0.15);\n",
              "      filter: drop-shadow(0px 1px 2px rgba(0, 0, 0, 0.3));\n",
              "      fill: #FFFFFF;\n",
              "    }\n",
              "  </style>\n",
              "\n",
              "      <script>\n",
              "        const buttonEl =\n",
              "          document.querySelector('#df-eda3903f-775a-4133-b591-1959e2b6b52b button.colab-df-convert');\n",
              "        buttonEl.style.display =\n",
              "          google.colab.kernel.accessAllowed ? 'block' : 'none';\n",
              "\n",
              "        async function convertToInteractive(key) {\n",
              "          const element = document.querySelector('#df-eda3903f-775a-4133-b591-1959e2b6b52b');\n",
              "          const dataTable =\n",
              "            await google.colab.kernel.invokeFunction('convertToInteractive',\n",
              "                                                     [key], {});\n",
              "          if (!dataTable) return;\n",
              "\n",
              "          const docLinkHtml = 'Like what you see? Visit the ' +\n",
              "            '<a target=\"_blank\" href=https://colab.research.google.com/notebooks/data_table.ipynb>data table notebook</a>'\n",
              "            + ' to learn more about interactive tables.';\n",
              "          element.innerHTML = '';\n",
              "          dataTable['output_type'] = 'display_data';\n",
              "          await google.colab.output.renderOutput(dataTable, element);\n",
              "          const docLink = document.createElement('div');\n",
              "          docLink.innerHTML = docLinkHtml;\n",
              "          element.appendChild(docLink);\n",
              "        }\n",
              "      </script>\n",
              "    </div>\n",
              "  </div>\n",
              "  "
            ]
          },
          "metadata": {},
          "execution_count": 145
        }
      ]
    },
    {
      "cell_type": "code",
      "source": [
        "project_timestamp_results = timestamp_results[timestamp_results['project_id'] == 'ric-eu-dl-ops-dev-nprd']"
      ],
      "metadata": {
        "id": "7XTfVoqdgxmq"
      },
      "execution_count": 151,
      "outputs": []
    },
    {
      "cell_type": "markdown",
      "source": [
        "Okay we can see that each timestamp is different. I assume the underlying API sent several requests to the API. And the most up to date one is the real one."
      ],
      "metadata": {
        "id": "rplKtvakfiHq"
      }
    },
    {
      "cell_type": "code",
      "source": [
        "project_timestamp_results.sort_values(by='receiveTimestamp', ascending=False).drop_duplicates(subset=['jobId'], keep='first').totalBilledBytes.sum()"
      ],
      "metadata": {
        "id": "iA8bFMPGdtQC",
        "outputId": "3fc8dcb3-8226-4004-b646-de45e7b9fbd4",
        "colab": {
          "base_uri": "https://localhost:8080/"
        }
      },
      "execution_count": 153,
      "outputs": [
        {
          "output_type": "execute_result",
          "data": {
            "text/plain": [
              "169674537959424"
            ]
          },
          "metadata": {},
          "execution_count": 153
        }
      ]
    },
    {
      "cell_type": "code",
      "source": [],
      "metadata": {
        "id": "WDzUOjG9f_2N"
      },
      "execution_count": null,
      "outputs": []
    }
  ],
  "metadata": {
    "colab": {
      "cell_execution_strategy": "setup",
      "name": "BigQuery bquxjob_2f0a5ad2_185391a10d1",
      "provenance": [],
      "include_colab_link": true
    },
    "kernelspec": {
      "display_name": "Python 3",
      "name": "python3"
    },
    "language_info": {
      "name": "python"
    }
  },
  "nbformat": 4,
  "nbformat_minor": 0
}